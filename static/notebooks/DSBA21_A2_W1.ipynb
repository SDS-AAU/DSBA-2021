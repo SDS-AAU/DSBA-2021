{
  "nbformat": 4,
  "nbformat_minor": 0,
  "metadata": {
    "colab": {
      "name": "DSBA21 A2 W1.ipynb",
      "provenance": [],
      "authorship_tag": "ABX9TyPlJwFLVnjzyYasBVVXvPCA",
      "include_colab_link": true
    },
    "kernelspec": {
      "name": "python3",
      "display_name": "Python 3"
    },
    "language_info": {
      "name": "python"
    }
  },
  "cells": [
    {
      "cell_type": "markdown",
      "metadata": {
        "id": "view-in-github",
        "colab_type": "text"
      },
      "source": [
        "<a href=\"https://colab.research.google.com/github/SDS-AAU/DSBA-2021/blob/master/static/notebooks/DSBA21_A2_W1.ipynb\" target=\"_parent\"><img src=\"https://colab.research.google.com/assets/colab-badge.svg\" alt=\"Open In Colab\"/></a>"
      ]
    },
    {
      "cell_type": "markdown",
      "metadata": {
        "id": "iiKFZcbVh0pV"
      },
      "source": [
        "# Danish Elite Network"
      ]
    },
    {
      "cell_type": "code",
      "metadata": {
        "id": "Ju96e4Vbhw6-"
      },
      "source": [
        "import pandas as pd\n",
        "import networkx as networkx\n",
        "from community import community_louvain"
      ],
      "execution_count": 1,
      "outputs": []
    },
    {
      "cell_type": "code",
      "metadata": {
        "id": "_-OUxoQVh4We"
      },
      "source": [
        "data = pd.read_csv('https://github.com/SDS-AAU/SDS-master/raw/master/00_data/networks/elite_den17.csv')"
      ],
      "execution_count": 2,
      "outputs": []
    },
    {
      "cell_type": "code",
      "metadata": {
        "colab": {
          "base_uri": "https://localhost:8080/"
        },
        "id": "cpQZ_gbuh_sf",
        "outputId": "96c52c39-7a56-496c-b5f8-eef1aa761d27"
      },
      "source": [
        "data.info()"
      ],
      "execution_count": 4,
      "outputs": [
        {
          "output_type": "stream",
          "name": "stdout",
          "text": [
            "<class 'pandas.core.frame.DataFrame'>\n",
            "RangeIndex: 56849 entries, 0 to 56848\n",
            "Data columns (total 16 columns):\n",
            " #   Column           Non-Null Count  Dtype  \n",
            "---  ------           --------------  -----  \n",
            " 0   NAME             56849 non-null  object \n",
            " 1   AFFILIATION      56849 non-null  object \n",
            " 2   ROLE             54312 non-null  object \n",
            " 3   TAGS             54809 non-null  object \n",
            " 4   POSITION_ID      56849 non-null  int64  \n",
            " 5   ID               56849 non-null  int64  \n",
            " 6   SECTOR           54500 non-null  object \n",
            " 7   TYPE             36116 non-null  object \n",
            " 8   DESCRIPTION      47785 non-null  object \n",
            " 9   CREATED          56828 non-null  object \n",
            " 10  ARCHIVED         0 non-null      float64\n",
            " 11  LAST_CHECKED     56820 non-null  object \n",
            " 12  CVR_PERSON       23659 non-null  float64\n",
            " 13  CVR_AFFILIATION  23712 non-null  float64\n",
            " 14  PERSON_ID        56849 non-null  int64  \n",
            " 15  AFFILIATION_ID   56849 non-null  int64  \n",
            "dtypes: float64(3), int64(4), object(9)\n",
            "memory usage: 6.9+ MB\n"
          ]
        }
      ]
    },
    {
      "cell_type": "code",
      "metadata": {
        "colab": {
          "base_uri": "https://localhost:8080/",
          "height": 499
        },
        "id": "QrF0w0WHh51M",
        "outputId": "ee2d8fb6-3cb8-46e9-9d4c-124ef334161f"
      },
      "source": [
        "data.head()"
      ],
      "execution_count": 3,
      "outputs": [
        {
          "output_type": "execute_result",
          "data": {
            "text/html": [
              "<div>\n",
              "<style scoped>\n",
              "    .dataframe tbody tr th:only-of-type {\n",
              "        vertical-align: middle;\n",
              "    }\n",
              "\n",
              "    .dataframe tbody tr th {\n",
              "        vertical-align: top;\n",
              "    }\n",
              "\n",
              "    .dataframe thead th {\n",
              "        text-align: right;\n",
              "    }\n",
              "</style>\n",
              "<table border=\"1\" class=\"dataframe\">\n",
              "  <thead>\n",
              "    <tr style=\"text-align: right;\">\n",
              "      <th></th>\n",
              "      <th>NAME</th>\n",
              "      <th>AFFILIATION</th>\n",
              "      <th>ROLE</th>\n",
              "      <th>TAGS</th>\n",
              "      <th>POSITION_ID</th>\n",
              "      <th>ID</th>\n",
              "      <th>SECTOR</th>\n",
              "      <th>TYPE</th>\n",
              "      <th>DESCRIPTION</th>\n",
              "      <th>CREATED</th>\n",
              "      <th>ARCHIVED</th>\n",
              "      <th>LAST_CHECKED</th>\n",
              "      <th>CVR_PERSON</th>\n",
              "      <th>CVR_AFFILIATION</th>\n",
              "      <th>PERSON_ID</th>\n",
              "      <th>AFFILIATION_ID</th>\n",
              "    </tr>\n",
              "  </thead>\n",
              "  <tbody>\n",
              "    <tr>\n",
              "      <th>0</th>\n",
              "      <td>Aage Almtoft</td>\n",
              "      <td>Middelfart Sparekasse</td>\n",
              "      <td>Member</td>\n",
              "      <td>Corporation, FINA, Banks, Finance</td>\n",
              "      <td>1</td>\n",
              "      <td>95023</td>\n",
              "      <td>Corporations</td>\n",
              "      <td>NaN</td>\n",
              "      <td>Automatisk CVR import at 2016-03-12 18:01:28: ...</td>\n",
              "      <td>2016-03-12T18:01:28Z</td>\n",
              "      <td>NaN</td>\n",
              "      <td>2017-11-09T15:38:01Z</td>\n",
              "      <td>4.003984e+09</td>\n",
              "      <td>24744817.0</td>\n",
              "      <td>1</td>\n",
              "      <td>3687</td>\n",
              "    </tr>\n",
              "    <tr>\n",
              "      <th>1</th>\n",
              "      <td>Aage B. Andersen</td>\n",
              "      <td>Foreningen Østifterne - Repræsentantskab (Medl...</td>\n",
              "      <td>Member</td>\n",
              "      <td>Charity, Foundation, Insurance, Socialomraadet</td>\n",
              "      <td>4</td>\n",
              "      <td>67511</td>\n",
              "      <td>NGO</td>\n",
              "      <td>Organisation</td>\n",
              "      <td>Direktør</td>\n",
              "      <td>2016-02-05T14:45:10Z</td>\n",
              "      <td>NaN</td>\n",
              "      <td>2016-02-12T14:41:09Z</td>\n",
              "      <td>NaN</td>\n",
              "      <td>NaN</td>\n",
              "      <td>3</td>\n",
              "      <td>2528</td>\n",
              "    </tr>\n",
              "    <tr>\n",
              "      <th>2</th>\n",
              "      <td>Aage Christensen</td>\n",
              "      <td>ÅRHUS SØMANDSHJEM</td>\n",
              "      <td>Chairman</td>\n",
              "      <td>Foundation, Marine, Tourism</td>\n",
              "      <td>6</td>\n",
              "      <td>100903</td>\n",
              "      <td>Foundations</td>\n",
              "      <td>NaN</td>\n",
              "      <td>Automatisk CVR import at 2016-03-12 18:08:31: ...</td>\n",
              "      <td>2016-03-12T18:08:31Z</td>\n",
              "      <td>NaN</td>\n",
              "      <td>2017-11-09T15:50:09Z</td>\n",
              "      <td>4.000054e+09</td>\n",
              "      <td>29094411.0</td>\n",
              "      <td>4</td>\n",
              "      <td>237</td>\n",
              "    </tr>\n",
              "    <tr>\n",
              "      <th>3</th>\n",
              "      <td>Aage Dam</td>\n",
              "      <td>Brancheforeningen automatik, tryk &amp; transmissi...</td>\n",
              "      <td>Chairman</td>\n",
              "      <td>Business association, Interest group, Technology</td>\n",
              "      <td>8</td>\n",
              "      <td>69156</td>\n",
              "      <td>NGO</td>\n",
              "      <td>Organisation</td>\n",
              "      <td>Formand, Adm. direktør, Bürkert Contromatic A/S</td>\n",
              "      <td>2016-02-10T15:18:47Z</td>\n",
              "      <td>NaN</td>\n",
              "      <td>2016-02-10T14:19:20Z</td>\n",
              "      <td>NaN</td>\n",
              "      <td>NaN</td>\n",
              "      <td>5</td>\n",
              "      <td>469</td>\n",
              "    </tr>\n",
              "    <tr>\n",
              "      <th>4</th>\n",
              "      <td>Aage Dam</td>\n",
              "      <td>Dansk Erhverv (bestyrelse)</td>\n",
              "      <td>Member</td>\n",
              "      <td>Employers association</td>\n",
              "      <td>9</td>\n",
              "      <td>72204</td>\n",
              "      <td>NGO</td>\n",
              "      <td>Stat</td>\n",
              "      <td>Adm. dir. Aage Dam- Bürkert-Contromatic A/S</td>\n",
              "      <td>2016-02-16T10:49:01Z</td>\n",
              "      <td>NaN</td>\n",
              "      <td>2016-02-16T11:55:34Z</td>\n",
              "      <td>NaN</td>\n",
              "      <td>43232010.0</td>\n",
              "      <td>5</td>\n",
              "      <td>1041</td>\n",
              "    </tr>\n",
              "  </tbody>\n",
              "</table>\n",
              "</div>"
            ],
            "text/plain": [
              "               NAME  ... AFFILIATION_ID\n",
              "0      Aage Almtoft  ...           3687\n",
              "1  Aage B. Andersen  ...           2528\n",
              "2  Aage Christensen  ...            237\n",
              "3          Aage Dam  ...            469\n",
              "4          Aage Dam  ...           1041\n",
              "\n",
              "[5 rows x 16 columns]"
            ]
          },
          "metadata": {},
          "execution_count": 3
        }
      ]
    },
    {
      "cell_type": "code",
      "metadata": {
        "colab": {
          "base_uri": "https://localhost:8080/"
        },
        "id": "Cr601g8QlKlU",
        "outputId": "12936422-974a-4d86-963e-022026805b9b"
      },
      "source": [
        "data.SECTOR.value_counts()"
      ],
      "execution_count": 5,
      "outputs": [
        {
          "output_type": "execute_result",
          "data": {
            "text/plain": [
              "NGO             17720\n",
              "State           13601\n",
              "Corporations     7989\n",
              "Foundations      6987\n",
              "VL_networks      3803\n",
              "Events           1948\n",
              "Parliament       1087\n",
              "Commissions       795\n",
              "Municipal         320\n",
              "Family            207\n",
              "Politics           37\n",
              "Organisation        6\n",
              "Name: SECTOR, dtype: int64"
            ]
          },
          "metadata": {},
          "execution_count": 5
        }
      ]
    },
    {
      "cell_type": "code",
      "metadata": {
        "id": "uOngzrCRh699"
      },
      "source": [
        "data = data[data.SECTOR == 'Corporations']"
      ],
      "execution_count": 6,
      "outputs": []
    },
    {
      "cell_type": "code",
      "metadata": {
        "id": "MWMYdtmvlQJq"
      },
      "source": [
        "data_select = data[['NAME','PERSON_ID','AFFILIATION_ID']]"
      ],
      "execution_count": 7,
      "outputs": []
    },
    {
      "cell_type": "code",
      "metadata": {
        "colab": {
          "base_uri": "https://localhost:8080/",
          "height": 421
        },
        "id": "9Msg1xf5rEi-",
        "outputId": "6decf028-2c44-4a62-e319-a83172e7b344"
      },
      "source": [
        "data_select"
      ],
      "execution_count": 11,
      "outputs": [
        {
          "output_type": "execute_result",
          "data": {
            "text/html": [
              "<div>\n",
              "<style scoped>\n",
              "    .dataframe tbody tr th:only-of-type {\n",
              "        vertical-align: middle;\n",
              "    }\n",
              "\n",
              "    .dataframe tbody tr th {\n",
              "        vertical-align: top;\n",
              "    }\n",
              "\n",
              "    .dataframe thead th {\n",
              "        text-align: right;\n",
              "    }\n",
              "</style>\n",
              "<table border=\"1\" class=\"dataframe\">\n",
              "  <thead>\n",
              "    <tr style=\"text-align: right;\">\n",
              "      <th></th>\n",
              "      <th>NAME</th>\n",
              "      <th>PERSON_ID</th>\n",
              "      <th>AFFILIATION_ID</th>\n",
              "    </tr>\n",
              "  </thead>\n",
              "  <tbody>\n",
              "    <tr>\n",
              "      <th>0</th>\n",
              "      <td>Aage Almtoft</td>\n",
              "      <td>1</td>\n",
              "      <td>3687</td>\n",
              "    </tr>\n",
              "    <tr>\n",
              "      <th>1</th>\n",
              "      <td>Aage B. Andersen</td>\n",
              "      <td>3</td>\n",
              "      <td>2528</td>\n",
              "    </tr>\n",
              "    <tr>\n",
              "      <th>2</th>\n",
              "      <td>Aage Christensen</td>\n",
              "      <td>4</td>\n",
              "      <td>237</td>\n",
              "    </tr>\n",
              "    <tr>\n",
              "      <th>3</th>\n",
              "      <td>Aage Dam</td>\n",
              "      <td>5</td>\n",
              "      <td>469</td>\n",
              "    </tr>\n",
              "    <tr>\n",
              "      <th>4</th>\n",
              "      <td>Aage Dam</td>\n",
              "      <td>5</td>\n",
              "      <td>1041</td>\n",
              "    </tr>\n",
              "    <tr>\n",
              "      <th>...</th>\n",
              "      <td>...</td>\n",
              "      <td>...</td>\n",
              "      <td>...</td>\n",
              "    </tr>\n",
              "    <tr>\n",
              "      <th>56844</th>\n",
              "      <td>Jacob Aarup-Andersen 195767</td>\n",
              "      <td>195767</td>\n",
              "      <td>932</td>\n",
              "    </tr>\n",
              "    <tr>\n",
              "      <th>56845</th>\n",
              "      <td>Carsten Rasch Egeriis</td>\n",
              "      <td>195805</td>\n",
              "      <td>932</td>\n",
              "    </tr>\n",
              "    <tr>\n",
              "      <th>56846</th>\n",
              "      <td>Marina Lønning</td>\n",
              "      <td>197733</td>\n",
              "      <td>4608</td>\n",
              "    </tr>\n",
              "    <tr>\n",
              "      <th>56847</th>\n",
              "      <td>Jaap-Jan Linze Postma</td>\n",
              "      <td>197736</td>\n",
              "      <td>4608</td>\n",
              "    </tr>\n",
              "    <tr>\n",
              "      <th>56848</th>\n",
              "      <td>Andreas Albert Pfisterer</td>\n",
              "      <td>197737</td>\n",
              "      <td>4608</td>\n",
              "    </tr>\n",
              "  </tbody>\n",
              "</table>\n",
              "<p>56849 rows × 3 columns</p>\n",
              "</div>"
            ],
            "text/plain": [
              "                              NAME  PERSON_ID  AFFILIATION_ID\n",
              "0                     Aage Almtoft          1            3687\n",
              "1                 Aage B. Andersen          3            2528\n",
              "2                 Aage Christensen          4             237\n",
              "3                         Aage Dam          5             469\n",
              "4                         Aage Dam          5            1041\n",
              "...                            ...        ...             ...\n",
              "56844  Jacob Aarup-Andersen 195767     195767             932\n",
              "56845        Carsten Rasch Egeriis     195805             932\n",
              "56846               Marina Lønning     197733            4608\n",
              "56847        Jaap-Jan Linze Postma     197736            4608\n",
              "56848     Andreas Albert Pfisterer     197737            4608\n",
              "\n",
              "[56849 rows x 3 columns]"
            ]
          },
          "metadata": {},
          "execution_count": 11
        }
      ]
    },
    {
      "cell_type": "code",
      "metadata": {
        "id": "4ZZ9n28-laOz"
      },
      "source": [
        "edges = pd.merge(data_select, data_select, on= 'AFFILIATION_ID')"
      ],
      "execution_count": 8,
      "outputs": []
    },
    {
      "cell_type": "code",
      "metadata": {
        "id": "DSz_l8Eoln_e"
      },
      "source": [
        "edges = edges[edges.PERSON_ID_x != edges.PERSON_ID_y]"
      ],
      "execution_count": 9,
      "outputs": []
    },
    {
      "cell_type": "code",
      "metadata": {
        "colab": {
          "base_uri": "https://localhost:8080/",
          "height": 205
        },
        "id": "d7l-HYiRlv-C",
        "outputId": "6ceb8f0d-6adf-45e8-ad64-841826098ae0"
      },
      "source": [
        "edges.head()"
      ],
      "execution_count": 10,
      "outputs": [
        {
          "output_type": "execute_result",
          "data": {
            "text/html": [
              "<div>\n",
              "<style scoped>\n",
              "    .dataframe tbody tr th:only-of-type {\n",
              "        vertical-align: middle;\n",
              "    }\n",
              "\n",
              "    .dataframe tbody tr th {\n",
              "        vertical-align: top;\n",
              "    }\n",
              "\n",
              "    .dataframe thead th {\n",
              "        text-align: right;\n",
              "    }\n",
              "</style>\n",
              "<table border=\"1\" class=\"dataframe\">\n",
              "  <thead>\n",
              "    <tr style=\"text-align: right;\">\n",
              "      <th></th>\n",
              "      <th>NAME_x</th>\n",
              "      <th>PERSON_ID_x</th>\n",
              "      <th>AFFILIATION_ID</th>\n",
              "      <th>NAME_y</th>\n",
              "      <th>PERSON_ID_y</th>\n",
              "    </tr>\n",
              "  </thead>\n",
              "  <tbody>\n",
              "    <tr>\n",
              "      <th>1</th>\n",
              "      <td>Aage Almtoft</td>\n",
              "      <td>1</td>\n",
              "      <td>3687</td>\n",
              "      <td>Allan Buch</td>\n",
              "      <td>311</td>\n",
              "    </tr>\n",
              "    <tr>\n",
              "      <th>2</th>\n",
              "      <td>Aage Almtoft</td>\n",
              "      <td>1</td>\n",
              "      <td>3687</td>\n",
              "      <td>Bo Skovby Rosendahl</td>\n",
              "      <td>4491</td>\n",
              "    </tr>\n",
              "    <tr>\n",
              "      <th>3</th>\n",
              "      <td>Aage Almtoft</td>\n",
              "      <td>1</td>\n",
              "      <td>3687</td>\n",
              "      <td>Bo Smith 4493</td>\n",
              "      <td>4493</td>\n",
              "    </tr>\n",
              "    <tr>\n",
              "      <th>4</th>\n",
              "      <td>Aage Almtoft</td>\n",
              "      <td>1</td>\n",
              "      <td>3687</td>\n",
              "      <td>Martin Nørholm Baltser</td>\n",
              "      <td>24816</td>\n",
              "    </tr>\n",
              "    <tr>\n",
              "      <th>5</th>\n",
              "      <td>Aage Almtoft</td>\n",
              "      <td>1</td>\n",
              "      <td>3687</td>\n",
              "      <td>Pia Kjær Nielsen</td>\n",
              "      <td>31093</td>\n",
              "    </tr>\n",
              "  </tbody>\n",
              "</table>\n",
              "</div>"
            ],
            "text/plain": [
              "         NAME_x  PERSON_ID_x  ...                  NAME_y PERSON_ID_y\n",
              "1  Aage Almtoft            1  ...              Allan Buch         311\n",
              "2  Aage Almtoft            1  ...     Bo Skovby Rosendahl        4491\n",
              "3  Aage Almtoft            1  ...           Bo Smith 4493        4493\n",
              "4  Aage Almtoft            1  ...  Martin Nørholm Baltser       24816\n",
              "5  Aage Almtoft            1  ...        Pia Kjær Nielsen       31093\n",
              "\n",
              "[5 rows x 5 columns]"
            ]
          },
          "metadata": {},
          "execution_count": 10
        }
      ]
    },
    {
      "cell_type": "code",
      "metadata": {
        "id": "nYGop0ARlxZ-"
      },
      "source": [
        ""
      ],
      "execution_count": null,
      "outputs": []
    }
  ]
}