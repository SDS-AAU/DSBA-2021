{
  "nbformat": 4,
  "nbformat_minor": 0,
  "metadata": {
    "colab": {
      "name": "DSBA21 M2W2.ipynb",
      "provenance": [],
      "collapsed_sections": [],
      "authorship_tag": "ABX9TyNkncCUwb4V5RRtYIzV0Drm",
      "include_colab_link": true
    },
    "kernelspec": {
      "name": "python3",
      "display_name": "Python 3"
    },
    "language_info": {
      "name": "python"
    }
  },
  "cells": [
    {
      "cell_type": "markdown",
      "metadata": {
        "id": "view-in-github",
        "colab_type": "text"
      },
      "source": [
        "<a href=\"https://colab.research.google.com/github/SDS-AAU/DSBA-2021/blob/master/static/notebooks/DSBA21_M2W2.ipynb\" target=\"_parent\"><img src=\"https://colab.research.google.com/assets/colab-badge.svg\" alt=\"Open In Colab\"/></a>"
      ]
    },
    {
      "cell_type": "code",
      "metadata": {
        "id": "Ck35ovgKl-E0"
      },
      "source": [
        "!pip install tweet-preprocessor -qq"
      ],
      "execution_count": 1,
      "outputs": []
    },
    {
      "cell_type": "code",
      "metadata": {
        "id": "wsImrotrbRA2"
      },
      "source": [
        "import pandas as pd\n",
        "import preprocessor as prepro\n",
        "import spacy"
      ],
      "execution_count": 2,
      "outputs": []
    },
    {
      "cell_type": "markdown",
      "metadata": {
        "id": "jeNCAxWj3Rn-"
      },
      "source": [
        "load up data"
      ]
    },
    {
      "cell_type": "code",
      "metadata": {
        "id": "o-MQiLPgbZS5"
      },
      "source": [
        "data_congress = pd.read_json('https://github.com/SDS-AAU/SDS-master/raw/master/M2/data/pol_tweets.gz')"
      ],
      "execution_count": 3,
      "outputs": []
    },
    {
      "cell_type": "code",
      "metadata": {
        "colab": {
          "base_uri": "https://localhost:8080/",
          "height": 424
        },
        "id": "Cskw1FNRbeHX",
        "outputId": "97363e14-e29d-4053-eab2-6109396e937f"
      },
      "source": [
        "data_congress"
      ],
      "execution_count": 4,
      "outputs": [
        {
          "output_type": "execute_result",
          "data": {
            "text/plain": [
              "                                                     text  labels\n",
              "340675  RT @GreenBeretFound Today we remember Sgt. 1st...       0\n",
              "289492  Yes, yes, yes, yes and yes. 😷 #JerseyStrong 💪🏾...       1\n",
              "371088  Made new friends this afternoon delivering mas...       1\n",
              "82212   RT @TXMilitary Happening TODAY: Pilots with th...       0\n",
              "476047  RT @SteveScalise President Trump's legal team ...       0\n",
              "...                                                   ...     ...\n",
              "61499   Outrageous.\\n\\nBrave health care workers are p...       0\n",
              "185562  RT @dskolnick .@RepTimRyan proposes up to $3K ...       1\n",
              "354040  It is clear that the #HeroesAct will help tens...       1\n",
              "708686  Democrats are talking about Bolton and Mulvane...       0\n",
              "568643  The President claims his administration is, \"d...       1\n",
              "\n",
              "[50000 rows x 2 columns]"
            ],
            "text/html": [
              "\n",
              "  <div id=\"df-7bb8181c-932d-403b-ba5a-8032752dd937\">\n",
              "    <div class=\"colab-df-container\">\n",
              "      <div>\n",
              "<style scoped>\n",
              "    .dataframe tbody tr th:only-of-type {\n",
              "        vertical-align: middle;\n",
              "    }\n",
              "\n",
              "    .dataframe tbody tr th {\n",
              "        vertical-align: top;\n",
              "    }\n",
              "\n",
              "    .dataframe thead th {\n",
              "        text-align: right;\n",
              "    }\n",
              "</style>\n",
              "<table border=\"1\" class=\"dataframe\">\n",
              "  <thead>\n",
              "    <tr style=\"text-align: right;\">\n",
              "      <th></th>\n",
              "      <th>text</th>\n",
              "      <th>labels</th>\n",
              "    </tr>\n",
              "  </thead>\n",
              "  <tbody>\n",
              "    <tr>\n",
              "      <th>340675</th>\n",
              "      <td>RT @GreenBeretFound Today we remember Sgt. 1st...</td>\n",
              "      <td>0</td>\n",
              "    </tr>\n",
              "    <tr>\n",
              "      <th>289492</th>\n",
              "      <td>Yes, yes, yes, yes and yes. 😷 #JerseyStrong 💪🏾...</td>\n",
              "      <td>1</td>\n",
              "    </tr>\n",
              "    <tr>\n",
              "      <th>371088</th>\n",
              "      <td>Made new friends this afternoon delivering mas...</td>\n",
              "      <td>1</td>\n",
              "    </tr>\n",
              "    <tr>\n",
              "      <th>82212</th>\n",
              "      <td>RT @TXMilitary Happening TODAY: Pilots with th...</td>\n",
              "      <td>0</td>\n",
              "    </tr>\n",
              "    <tr>\n",
              "      <th>476047</th>\n",
              "      <td>RT @SteveScalise President Trump's legal team ...</td>\n",
              "      <td>0</td>\n",
              "    </tr>\n",
              "    <tr>\n",
              "      <th>...</th>\n",
              "      <td>...</td>\n",
              "      <td>...</td>\n",
              "    </tr>\n",
              "    <tr>\n",
              "      <th>61499</th>\n",
              "      <td>Outrageous.\\n\\nBrave health care workers are p...</td>\n",
              "      <td>0</td>\n",
              "    </tr>\n",
              "    <tr>\n",
              "      <th>185562</th>\n",
              "      <td>RT @dskolnick .@RepTimRyan proposes up to $3K ...</td>\n",
              "      <td>1</td>\n",
              "    </tr>\n",
              "    <tr>\n",
              "      <th>354040</th>\n",
              "      <td>It is clear that the #HeroesAct will help tens...</td>\n",
              "      <td>1</td>\n",
              "    </tr>\n",
              "    <tr>\n",
              "      <th>708686</th>\n",
              "      <td>Democrats are talking about Bolton and Mulvane...</td>\n",
              "      <td>0</td>\n",
              "    </tr>\n",
              "    <tr>\n",
              "      <th>568643</th>\n",
              "      <td>The President claims his administration is, \"d...</td>\n",
              "      <td>1</td>\n",
              "    </tr>\n",
              "  </tbody>\n",
              "</table>\n",
              "<p>50000 rows × 2 columns</p>\n",
              "</div>\n",
              "      <button class=\"colab-df-convert\" onclick=\"convertToInteractive('df-7bb8181c-932d-403b-ba5a-8032752dd937')\"\n",
              "              title=\"Convert this dataframe to an interactive table.\"\n",
              "              style=\"display:none;\">\n",
              "        \n",
              "  <svg xmlns=\"http://www.w3.org/2000/svg\" height=\"24px\"viewBox=\"0 0 24 24\"\n",
              "       width=\"24px\">\n",
              "    <path d=\"M0 0h24v24H0V0z\" fill=\"none\"/>\n",
              "    <path d=\"M18.56 5.44l.94 2.06.94-2.06 2.06-.94-2.06-.94-.94-2.06-.94 2.06-2.06.94zm-11 1L8.5 8.5l.94-2.06 2.06-.94-2.06-.94L8.5 2.5l-.94 2.06-2.06.94zm10 10l.94 2.06.94-2.06 2.06-.94-2.06-.94-.94-2.06-.94 2.06-2.06.94z\"/><path d=\"M17.41 7.96l-1.37-1.37c-.4-.4-.92-.59-1.43-.59-.52 0-1.04.2-1.43.59L10.3 9.45l-7.72 7.72c-.78.78-.78 2.05 0 2.83L4 21.41c.39.39.9.59 1.41.59.51 0 1.02-.2 1.41-.59l7.78-7.78 2.81-2.81c.8-.78.8-2.07 0-2.86zM5.41 20L4 18.59l7.72-7.72 1.47 1.35L5.41 20z\"/>\n",
              "  </svg>\n",
              "      </button>\n",
              "      \n",
              "  <style>\n",
              "    .colab-df-container {\n",
              "      display:flex;\n",
              "      flex-wrap:wrap;\n",
              "      gap: 12px;\n",
              "    }\n",
              "\n",
              "    .colab-df-convert {\n",
              "      background-color: #E8F0FE;\n",
              "      border: none;\n",
              "      border-radius: 50%;\n",
              "      cursor: pointer;\n",
              "      display: none;\n",
              "      fill: #1967D2;\n",
              "      height: 32px;\n",
              "      padding: 0 0 0 0;\n",
              "      width: 32px;\n",
              "    }\n",
              "\n",
              "    .colab-df-convert:hover {\n",
              "      background-color: #E2EBFA;\n",
              "      box-shadow: 0px 1px 2px rgba(60, 64, 67, 0.3), 0px 1px 3px 1px rgba(60, 64, 67, 0.15);\n",
              "      fill: #174EA6;\n",
              "    }\n",
              "\n",
              "    [theme=dark] .colab-df-convert {\n",
              "      background-color: #3B4455;\n",
              "      fill: #D2E3FC;\n",
              "    }\n",
              "\n",
              "    [theme=dark] .colab-df-convert:hover {\n",
              "      background-color: #434B5C;\n",
              "      box-shadow: 0px 1px 3px 1px rgba(0, 0, 0, 0.15);\n",
              "      filter: drop-shadow(0px 1px 2px rgba(0, 0, 0, 0.3));\n",
              "      fill: #FFFFFF;\n",
              "    }\n",
              "  </style>\n",
              "\n",
              "      <script>\n",
              "        const buttonEl =\n",
              "          document.querySelector('#df-7bb8181c-932d-403b-ba5a-8032752dd937 button.colab-df-convert');\n",
              "        buttonEl.style.display =\n",
              "          google.colab.kernel.accessAllowed ? 'block' : 'none';\n",
              "\n",
              "        async function convertToInteractive(key) {\n",
              "          const element = document.querySelector('#df-7bb8181c-932d-403b-ba5a-8032752dd937');\n",
              "          const dataTable =\n",
              "            await google.colab.kernel.invokeFunction('convertToInteractive',\n",
              "                                                     [key], {});\n",
              "          if (!dataTable) return;\n",
              "\n",
              "          const docLinkHtml = 'Like what you see? Visit the ' +\n",
              "            '<a target=\"_blank\" href=https://colab.research.google.com/notebooks/data_table.ipynb>data table notebook</a>'\n",
              "            + ' to learn more about interactive tables.';\n",
              "          element.innerHTML = '';\n",
              "          dataTable['output_type'] = 'display_data';\n",
              "          await google.colab.output.renderOutput(dataTable, element);\n",
              "          const docLink = document.createElement('div');\n",
              "          docLink.innerHTML = docLinkHtml;\n",
              "          element.appendChild(docLink);\n",
              "        }\n",
              "      </script>\n",
              "    </div>\n",
              "  </div>\n",
              "  "
            ]
          },
          "metadata": {},
          "execution_count": 4
        }
      ]
    },
    {
      "cell_type": "markdown",
      "metadata": {
        "id": "7KHx890r3V5o"
      },
      "source": [
        "preprocessing"
      ]
    },
    {
      "cell_type": "code",
      "metadata": {
        "id": "9xztOvSUliYX"
      },
      "source": [
        "# prepro settings\n",
        "prepro.set_options(prepro.OPT.URL, prepro.OPT.EMOJI, prepro.OPT.NUMBER, prepro.OPT.RESERVED, prepro.OPT.MENTION, prepro.OPT.SMILEY)"
      ],
      "execution_count": 5,
      "outputs": []
    },
    {
      "cell_type": "code",
      "metadata": {
        "id": "9fAZT2cPn_Tk"
      },
      "source": [
        "data_congress['text_clean'] = data_congress['text'].map(lambda t: prepro.clean(t))"
      ],
      "execution_count": 6,
      "outputs": []
    },
    {
      "cell_type": "code",
      "metadata": {
        "id": "v4B5fAz7oU6r"
      },
      "source": [
        "data_congress['text_clean'] = data_congress['text_clean'].str.replace('#','')"
      ],
      "execution_count": 7,
      "outputs": []
    },
    {
      "cell_type": "markdown",
      "metadata": {
        "id": "Z04Cl1C13pB2"
      },
      "source": [
        "bootstrap dictionary with spacy (add-on)\n",
        "here we take a sample of 1000 tweets and create a dictionary only containinng `'NOUN', 'PROPN', 'ADJ', 'ADV'` - the assumption is that we thereby can capture \"more relevant\" words...we also remove stoppwords and lematize\n"
      ]
    },
    {
      "cell_type": "code",
      "metadata": {
        "id": "QZtIiHqGr61S"
      },
      "source": [
        "nlp = spacy.load(\"en_core_web_sm\")"
      ],
      "execution_count": 9,
      "outputs": []
    },
    {
      "cell_type": "code",
      "metadata": {
        "id": "_dSfkR4stW9J"
      },
      "source": [
        "tokens = []\n",
        "\n",
        "for tweet in nlp.pipe(data_congress.sample(5000)['text_clean']):\n",
        "  tweet_tok = [token.lemma_.lower() for token in tweet if token.pos_ in ['NOUN', 'PROPN', 'ADJ', 'ADV'] and not token.is_stop] \n",
        "  tokens.extend(tweet_tok)"
      ],
      "execution_count": 10,
      "outputs": []
    },
    {
      "cell_type": "code",
      "metadata": {
        "id": "oV8LEVvOuIFR"
      },
      "source": [
        "# here we create this dictionary and in the next step it is used in the tokenization\n",
        "bootstrap_dictionary = list(set(tokens))"
      ],
      "execution_count": 13,
      "outputs": []
    },
    {
      "cell_type": "markdown",
      "metadata": {
        "id": "zqQpb1cf3zOp"
      },
      "source": [
        "repack preprocessing into a function"
      ]
    },
    {
      "cell_type": "code",
      "metadata": {
        "id": "btjRZvnyw2Qw"
      },
      "source": [
        "# now only for the cleanup. The vectorizer is removed and put into the pipeline below.\n",
        "\n",
        "def preprocessTweets(data_tweets):\n",
        "  clean_text = data_tweets.map(lambda t: prepro.clean(t))\n",
        "  clean_text = clean_text.str.replace('#','')\n",
        "  return clean_text"
      ],
      "execution_count": 14,
      "outputs": []
    },
    {
      "cell_type": "markdown",
      "metadata": {
        "id": "9tzCpPua34kW"
      },
      "source": [
        "vectorization and SML part\n",
        "\n",
        "Here we also add random undersampling (using imblearn) to improve the recall on the underrerresented class \"rep\" (0)\n",
        "For this to work we build a pipeline into which we put Tfidfvectorization, undersampline and the logistic regression. This bundles all steps together so that we don't have to exicute them all individually every time."
      ]
    },
    {
      "cell_type": "code",
      "metadata": {
        "id": "f8-mmu8oqqy2"
      },
      "source": [
        "X = data_congress['text_clean']\n",
        "y = data_congress['labels']"
      ],
      "execution_count": 15,
      "outputs": []
    },
    {
      "cell_type": "code",
      "metadata": {
        "id": "AJ7v6wUvq55Z"
      },
      "source": [
        "from sklearn.model_selection import train_test_split\n",
        "X_train, X_test, y_train, y_test = train_test_split(X, y, test_size = 0.2, random_state = 21)"
      ],
      "execution_count": 16,
      "outputs": []
    },
    {
      "cell_type": "code",
      "metadata": {
        "id": "4rHRKRj_sI5X"
      },
      "source": [
        "from imblearn.under_sampling import RandomUnderSampler\n",
        "from imblearn.pipeline import make_pipeline as make_pipeline_imb\n",
        "from sklearn.feature_extraction.text import TfidfVectorizer\n",
        "from sklearn.linear_model import LogisticRegression\n",
        "\n",
        "model = make_pipeline_imb(TfidfVectorizer(vocabulary=bootstrap_dictionary), \n",
        "                          RandomUnderSampler(),\n",
        "                          LogisticRegression())"
      ],
      "execution_count": 17,
      "outputs": []
    },
    {
      "cell_type": "code",
      "metadata": {
        "colab": {
          "base_uri": "https://localhost:8080/"
        },
        "id": "L52Z2kunq9h2",
        "outputId": "22311137-4b58-4dba-b765-e611068f5649"
      },
      "source": [
        "model.fit(X_train, y_train)"
      ],
      "execution_count": 18,
      "outputs": [
        {
          "output_type": "execute_result",
          "data": {
            "text/plain": [
              "Pipeline(steps=[('tfidfvectorizer',\n",
              "                 TfidfVectorizer(vocabulary=['chainyet', 'meal', 'we.put',\n",
              "                                             'hug', 'connect', 'foolish',\n",
              "                                             'packed', 'barnwell', 'makeup',\n",
              "                                             'repunderwood', 'inexcusable',\n",
              "                                             'belcher', 'postalservice',\n",
              "                                             'provocation', 'produce', 'pastie',\n",
              "                                             'brindaba', 'coronavius',\n",
              "                                             'dangerously', 'chaps', 'burrow',\n",
              "                                             'money', 'uscg', 'jim', 'small',\n",
              "                                             'scope', 'specifically', 'marble',\n",
              "                                             'freethefamilie', 'crafting', ...])),\n",
              "                ('randomundersampler', RandomUnderSampler()),\n",
              "                ('logisticregression', LogisticRegression())])"
            ]
          },
          "metadata": {},
          "execution_count": 18
        }
      ]
    },
    {
      "cell_type": "code",
      "metadata": {
        "colab": {
          "base_uri": "https://localhost:8080/"
        },
        "id": "2rxu7racrCa4",
        "outputId": "bb0f8253-e533-48e6-88a8-a91838d88eb0"
      },
      "source": [
        "model.score(X_test, y_test)"
      ],
      "execution_count": 19,
      "outputs": [
        {
          "output_type": "execute_result",
          "data": {
            "text/plain": [
              "0.76"
            ]
          },
          "metadata": {},
          "execution_count": 19
        }
      ]
    },
    {
      "cell_type": "code",
      "metadata": {
        "id": "lTJmFxXVt96t"
      },
      "source": [
        "from sklearn.metrics import classification_report"
      ],
      "execution_count": 20,
      "outputs": []
    },
    {
      "cell_type": "code",
      "metadata": {
        "id": "1fv9WuG-uBrr"
      },
      "source": [
        "y_pred = model.predict(X_test)"
      ],
      "execution_count": 21,
      "outputs": []
    },
    {
      "cell_type": "code",
      "metadata": {
        "colab": {
          "base_uri": "https://localhost:8080/"
        },
        "id": "Xi0s1is-uGFD",
        "outputId": "741b4d88-747f-47af-cc75-24deca56f381"
      },
      "source": [
        "print(classification_report(y_test, y_pred))"
      ],
      "execution_count": 22,
      "outputs": [
        {
          "output_type": "stream",
          "name": "stdout",
          "text": [
            "              precision    recall  f1-score   support\n",
            "\n",
            "           0       0.65      0.77      0.71      3760\n",
            "           1       0.84      0.76      0.80      6240\n",
            "\n",
            "    accuracy                           0.76     10000\n",
            "   macro avg       0.75      0.76      0.75     10000\n",
            "weighted avg       0.77      0.76      0.76     10000\n",
            "\n"
          ]
        }
      ]
    },
    {
      "cell_type": "markdown",
      "metadata": {
        "id": "HcutbwAf4Ied"
      },
      "source": [
        "apply to new data"
      ]
    },
    {
      "cell_type": "code",
      "metadata": {
        "id": "Rzpi2DSObe_x"
      },
      "source": [
        "data_tweets = pd.read_json('https://github.com/SDS-AAU/SDS-master/raw/master/M2/data/pres_debate_2020.gz')"
      ],
      "execution_count": 23,
      "outputs": []
    },
    {
      "cell_type": "code",
      "metadata": {
        "colab": {
          "base_uri": "https://localhost:8080/",
          "height": 1000
        },
        "id": "7VA2PNUqcFD0",
        "outputId": "8c9e7615-d540-40ff-dc7e-a0e6c9695dac"
      },
      "source": [
        "data_tweets"
      ],
      "execution_count": 24,
      "outputs": [
        {
          "output_type": "execute_result",
          "data": {
            "text/plain": [
              "                       id      conversation_id          created_at  \\\n",
              "0     1318944772183281664  1318944772183281664 2020-10-21 15:58:33   \n",
              "1     1318938583122743296  1318938583122743296 2020-10-21 15:33:57   \n",
              "2     1318932554897031168  1318932554897031168 2020-10-21 15:10:00   \n",
              "3     1318928783169245184  1318928783169245184 2020-10-21 14:55:01   \n",
              "4     1318927150247018496  1318927150247018496 2020-10-21 14:48:31   \n",
              "...                   ...                  ...                 ...   \n",
              "8806  1311705601597222912  1311705601597222912 2020-10-01 16:32:40   \n",
              "8807  1311705488531156992  1311705488531156992 2020-10-01 16:32:13   \n",
              "8808  1311705196657958912  1311705196657958912 2020-10-01 16:31:03   \n",
              "8809  1311704929090891776  1311704929090891776 2020-10-01 16:30:00   \n",
              "8810  1311704928231010304  1311704928231010304 2020-10-01 16:29:59   \n",
              "\n",
              "                    date  timezone place  \\\n",
              "0    2020-10-21 15:58:33         0         \n",
              "1    2020-10-21 15:33:57         0         \n",
              "2    2020-10-21 15:10:00         0         \n",
              "3    2020-10-21 14:55:01         0         \n",
              "4    2020-10-21 14:48:31         0         \n",
              "...                  ...       ...   ...   \n",
              "8806 2020-10-01 16:32:40         0         \n",
              "8807 2020-10-01 16:32:13         0         \n",
              "8808 2020-10-01 16:31:03         0         \n",
              "8809 2020-10-01 16:30:00         0         \n",
              "8810 2020-10-01 16:29:59         0         \n",
              "\n",
              "                                                  tweet language  \\\n",
              "0     Still time to register: Students can join the ...       en   \n",
              "1     Be prepared for Trump to railroad Thursday’s d...       en   \n",
              "2     Join us tomorrow from 5-8pm as @michaelpleahy ...       en   \n",
              "3     Wanna bet #ProudBoys comes up #PresidentialDeb...       en   \n",
              "4     RT College Tour @BelmontUniv was spotless. Gor...       en   \n",
              "...                                                 ...      ...   \n",
              "8806  Check out my Gig on Fiverr: do email marketing...       en   \n",
              "8807  This was made in 2012! It’s exactly like what ...       en   \n",
              "8808  How you finna lose two swing states with one q...       en   \n",
              "8809  This morning on the @ArleneBynonShow, @gmacofg...       en   \n",
              "8810  #PresidentialDebate2020  was something out of ...       en   \n",
              "\n",
              "                                               hashtags cashtags  ...  \\\n",
              "0                              [presidentialdebate2020]       []  ...   \n",
              "1                              [presidentialdebate2020]       []  ...   \n",
              "2                              [presidentialdebate2020]       []  ...   \n",
              "3                   [proudboys, presidentialdebate2020]       []  ...   \n",
              "4                   [musiccity, presidentialdebate2020]       []  ...   \n",
              "...                                                 ...      ...  ...   \n",
              "8806  [october1st, worsttrumpever, thursdaythoughts,...       []  ...   \n",
              "8807  [democrats, republicans, presidentialdebate202...       []  ...   \n",
              "8808                           [presidentialdebate2020]       []  ...   \n",
              "8809  [erinotoole, blanchet, houseofcommons, trudeau...       []  ...   \n",
              "8810   [presidentialdebate2020, presidentialdebate2020]       []  ...   \n",
              "\n",
              "      nretweets                                          quote_url  \\\n",
              "0             2                                                      \n",
              "1             0  https://twitter.com/donaldjtrumpjr/status/1318...   \n",
              "2             0                                                      \n",
              "3             0                                                      \n",
              "4             0                                                      \n",
              "...         ...                                                ...   \n",
              "8806          0                                                      \n",
              "8807          0  https://twitter.com/JonnyEthco/status/13113395...   \n",
              "8808          0                                                      \n",
              "8809          3                                                      \n",
              "8810          0                                                      \n",
              "\n",
              "                      search near  geo  source  \\\n",
              "0     PresidentialDebate2020                     \n",
              "1     PresidentialDebate2020                     \n",
              "2     PresidentialDebate2020                     \n",
              "3     PresidentialDebate2020                     \n",
              "4     PresidentialDebate2020                     \n",
              "...                      ...  ...  ...     ...   \n",
              "8806  PresidentialDebate2020                     \n",
              "8807  PresidentialDebate2020                     \n",
              "8808  PresidentialDebate2020                     \n",
              "8809  PresidentialDebate2020                     \n",
              "8810  PresidentialDebate2020                     \n",
              "\n",
              "                                 reply_to translate trans_src  trans_dest  \n",
              "0     {'user_id': None, 'username': None}                                  \n",
              "1     {'user_id': None, 'username': None}                                  \n",
              "2     {'user_id': None, 'username': None}                                  \n",
              "3     {'user_id': None, 'username': None}                                  \n",
              "4     {'user_id': None, 'username': None}                                  \n",
              "...                                   ...       ...       ...         ...  \n",
              "8806  {'user_id': None, 'username': None}                                  \n",
              "8807  {'user_id': None, 'username': None}                                  \n",
              "8808  {'user_id': None, 'username': None}                                  \n",
              "8809  {'user_id': None, 'username': None}                                  \n",
              "8810  {'user_id': None, 'username': None}                                  \n",
              "\n",
              "[8811 rows x 33 columns]"
            ],
            "text/html": [
              "\n",
              "  <div id=\"df-39752d6a-b53e-4f34-b566-93407bbe33d6\">\n",
              "    <div class=\"colab-df-container\">\n",
              "      <div>\n",
              "<style scoped>\n",
              "    .dataframe tbody tr th:only-of-type {\n",
              "        vertical-align: middle;\n",
              "    }\n",
              "\n",
              "    .dataframe tbody tr th {\n",
              "        vertical-align: top;\n",
              "    }\n",
              "\n",
              "    .dataframe thead th {\n",
              "        text-align: right;\n",
              "    }\n",
              "</style>\n",
              "<table border=\"1\" class=\"dataframe\">\n",
              "  <thead>\n",
              "    <tr style=\"text-align: right;\">\n",
              "      <th></th>\n",
              "      <th>id</th>\n",
              "      <th>conversation_id</th>\n",
              "      <th>created_at</th>\n",
              "      <th>date</th>\n",
              "      <th>timezone</th>\n",
              "      <th>place</th>\n",
              "      <th>tweet</th>\n",
              "      <th>language</th>\n",
              "      <th>hashtags</th>\n",
              "      <th>cashtags</th>\n",
              "      <th>...</th>\n",
              "      <th>nretweets</th>\n",
              "      <th>quote_url</th>\n",
              "      <th>search</th>\n",
              "      <th>near</th>\n",
              "      <th>geo</th>\n",
              "      <th>source</th>\n",
              "      <th>reply_to</th>\n",
              "      <th>translate</th>\n",
              "      <th>trans_src</th>\n",
              "      <th>trans_dest</th>\n",
              "    </tr>\n",
              "  </thead>\n",
              "  <tbody>\n",
              "    <tr>\n",
              "      <th>0</th>\n",
              "      <td>1318944772183281664</td>\n",
              "      <td>1318944772183281664</td>\n",
              "      <td>2020-10-21 15:58:33</td>\n",
              "      <td>2020-10-21 15:58:33</td>\n",
              "      <td>0</td>\n",
              "      <td></td>\n",
              "      <td>Still time to register: Students can join the ...</td>\n",
              "      <td>en</td>\n",
              "      <td>[presidentialdebate2020]</td>\n",
              "      <td>[]</td>\n",
              "      <td>...</td>\n",
              "      <td>2</td>\n",
              "      <td></td>\n",
              "      <td>PresidentialDebate2020</td>\n",
              "      <td></td>\n",
              "      <td></td>\n",
              "      <td></td>\n",
              "      <td>{'user_id': None, 'username': None}</td>\n",
              "      <td></td>\n",
              "      <td></td>\n",
              "      <td></td>\n",
              "    </tr>\n",
              "    <tr>\n",
              "      <th>1</th>\n",
              "      <td>1318938583122743296</td>\n",
              "      <td>1318938583122743296</td>\n",
              "      <td>2020-10-21 15:33:57</td>\n",
              "      <td>2020-10-21 15:33:57</td>\n",
              "      <td>0</td>\n",
              "      <td></td>\n",
              "      <td>Be prepared for Trump to railroad Thursday’s d...</td>\n",
              "      <td>en</td>\n",
              "      <td>[presidentialdebate2020]</td>\n",
              "      <td>[]</td>\n",
              "      <td>...</td>\n",
              "      <td>0</td>\n",
              "      <td>https://twitter.com/donaldjtrumpjr/status/1318...</td>\n",
              "      <td>PresidentialDebate2020</td>\n",
              "      <td></td>\n",
              "      <td></td>\n",
              "      <td></td>\n",
              "      <td>{'user_id': None, 'username': None}</td>\n",
              "      <td></td>\n",
              "      <td></td>\n",
              "      <td></td>\n",
              "    </tr>\n",
              "    <tr>\n",
              "      <th>2</th>\n",
              "      <td>1318932554897031168</td>\n",
              "      <td>1318932554897031168</td>\n",
              "      <td>2020-10-21 15:10:00</td>\n",
              "      <td>2020-10-21 15:10:00</td>\n",
              "      <td>0</td>\n",
              "      <td></td>\n",
              "      <td>Join us tomorrow from 5-8pm as @michaelpleahy ...</td>\n",
              "      <td>en</td>\n",
              "      <td>[presidentialdebate2020]</td>\n",
              "      <td>[]</td>\n",
              "      <td>...</td>\n",
              "      <td>0</td>\n",
              "      <td></td>\n",
              "      <td>PresidentialDebate2020</td>\n",
              "      <td></td>\n",
              "      <td></td>\n",
              "      <td></td>\n",
              "      <td>{'user_id': None, 'username': None}</td>\n",
              "      <td></td>\n",
              "      <td></td>\n",
              "      <td></td>\n",
              "    </tr>\n",
              "    <tr>\n",
              "      <th>3</th>\n",
              "      <td>1318928783169245184</td>\n",
              "      <td>1318928783169245184</td>\n",
              "      <td>2020-10-21 14:55:01</td>\n",
              "      <td>2020-10-21 14:55:01</td>\n",
              "      <td>0</td>\n",
              "      <td></td>\n",
              "      <td>Wanna bet #ProudBoys comes up #PresidentialDeb...</td>\n",
              "      <td>en</td>\n",
              "      <td>[proudboys, presidentialdebate2020]</td>\n",
              "      <td>[]</td>\n",
              "      <td>...</td>\n",
              "      <td>0</td>\n",
              "      <td></td>\n",
              "      <td>PresidentialDebate2020</td>\n",
              "      <td></td>\n",
              "      <td></td>\n",
              "      <td></td>\n",
              "      <td>{'user_id': None, 'username': None}</td>\n",
              "      <td></td>\n",
              "      <td></td>\n",
              "      <td></td>\n",
              "    </tr>\n",
              "    <tr>\n",
              "      <th>4</th>\n",
              "      <td>1318927150247018496</td>\n",
              "      <td>1318927150247018496</td>\n",
              "      <td>2020-10-21 14:48:31</td>\n",
              "      <td>2020-10-21 14:48:31</td>\n",
              "      <td>0</td>\n",
              "      <td></td>\n",
              "      <td>RT College Tour @BelmontUniv was spotless. Gor...</td>\n",
              "      <td>en</td>\n",
              "      <td>[musiccity, presidentialdebate2020]</td>\n",
              "      <td>[]</td>\n",
              "      <td>...</td>\n",
              "      <td>0</td>\n",
              "      <td></td>\n",
              "      <td>PresidentialDebate2020</td>\n",
              "      <td></td>\n",
              "      <td></td>\n",
              "      <td></td>\n",
              "      <td>{'user_id': None, 'username': None}</td>\n",
              "      <td></td>\n",
              "      <td></td>\n",
              "      <td></td>\n",
              "    </tr>\n",
              "    <tr>\n",
              "      <th>...</th>\n",
              "      <td>...</td>\n",
              "      <td>...</td>\n",
              "      <td>...</td>\n",
              "      <td>...</td>\n",
              "      <td>...</td>\n",
              "      <td>...</td>\n",
              "      <td>...</td>\n",
              "      <td>...</td>\n",
              "      <td>...</td>\n",
              "      <td>...</td>\n",
              "      <td>...</td>\n",
              "      <td>...</td>\n",
              "      <td>...</td>\n",
              "      <td>...</td>\n",
              "      <td>...</td>\n",
              "      <td>...</td>\n",
              "      <td>...</td>\n",
              "      <td>...</td>\n",
              "      <td>...</td>\n",
              "      <td>...</td>\n",
              "      <td>...</td>\n",
              "    </tr>\n",
              "    <tr>\n",
              "      <th>8806</th>\n",
              "      <td>1311705601597222912</td>\n",
              "      <td>1311705601597222912</td>\n",
              "      <td>2020-10-01 16:32:40</td>\n",
              "      <td>2020-10-01 16:32:40</td>\n",
              "      <td>0</td>\n",
              "      <td></td>\n",
              "      <td>Check out my Gig on Fiverr: do email marketing...</td>\n",
              "      <td>en</td>\n",
              "      <td>[october1st, worsttrumpever, thursdaythoughts,...</td>\n",
              "      <td>[]</td>\n",
              "      <td>...</td>\n",
              "      <td>0</td>\n",
              "      <td></td>\n",
              "      <td>PresidentialDebate2020</td>\n",
              "      <td></td>\n",
              "      <td></td>\n",
              "      <td></td>\n",
              "      <td>{'user_id': None, 'username': None}</td>\n",
              "      <td></td>\n",
              "      <td></td>\n",
              "      <td></td>\n",
              "    </tr>\n",
              "    <tr>\n",
              "      <th>8807</th>\n",
              "      <td>1311705488531156992</td>\n",
              "      <td>1311705488531156992</td>\n",
              "      <td>2020-10-01 16:32:13</td>\n",
              "      <td>2020-10-01 16:32:13</td>\n",
              "      <td>0</td>\n",
              "      <td></td>\n",
              "      <td>This was made in 2012! It’s exactly like what ...</td>\n",
              "      <td>en</td>\n",
              "      <td>[democrats, republicans, presidentialdebate202...</td>\n",
              "      <td>[]</td>\n",
              "      <td>...</td>\n",
              "      <td>0</td>\n",
              "      <td>https://twitter.com/JonnyEthco/status/13113395...</td>\n",
              "      <td>PresidentialDebate2020</td>\n",
              "      <td></td>\n",
              "      <td></td>\n",
              "      <td></td>\n",
              "      <td>{'user_id': None, 'username': None}</td>\n",
              "      <td></td>\n",
              "      <td></td>\n",
              "      <td></td>\n",
              "    </tr>\n",
              "    <tr>\n",
              "      <th>8808</th>\n",
              "      <td>1311705196657958912</td>\n",
              "      <td>1311705196657958912</td>\n",
              "      <td>2020-10-01 16:31:03</td>\n",
              "      <td>2020-10-01 16:31:03</td>\n",
              "      <td>0</td>\n",
              "      <td></td>\n",
              "      <td>How you finna lose two swing states with one q...</td>\n",
              "      <td>en</td>\n",
              "      <td>[presidentialdebate2020]</td>\n",
              "      <td>[]</td>\n",
              "      <td>...</td>\n",
              "      <td>0</td>\n",
              "      <td></td>\n",
              "      <td>PresidentialDebate2020</td>\n",
              "      <td></td>\n",
              "      <td></td>\n",
              "      <td></td>\n",
              "      <td>{'user_id': None, 'username': None}</td>\n",
              "      <td></td>\n",
              "      <td></td>\n",
              "      <td></td>\n",
              "    </tr>\n",
              "    <tr>\n",
              "      <th>8809</th>\n",
              "      <td>1311704929090891776</td>\n",
              "      <td>1311704929090891776</td>\n",
              "      <td>2020-10-01 16:30:00</td>\n",
              "      <td>2020-10-01 16:30:00</td>\n",
              "      <td>0</td>\n",
              "      <td></td>\n",
              "      <td>This morning on the @ArleneBynonShow, @gmacofg...</td>\n",
              "      <td>en</td>\n",
              "      <td>[erinotoole, blanchet, houseofcommons, trudeau...</td>\n",
              "      <td>[]</td>\n",
              "      <td>...</td>\n",
              "      <td>3</td>\n",
              "      <td></td>\n",
              "      <td>PresidentialDebate2020</td>\n",
              "      <td></td>\n",
              "      <td></td>\n",
              "      <td></td>\n",
              "      <td>{'user_id': None, 'username': None}</td>\n",
              "      <td></td>\n",
              "      <td></td>\n",
              "      <td></td>\n",
              "    </tr>\n",
              "    <tr>\n",
              "      <th>8810</th>\n",
              "      <td>1311704928231010304</td>\n",
              "      <td>1311704928231010304</td>\n",
              "      <td>2020-10-01 16:29:59</td>\n",
              "      <td>2020-10-01 16:29:59</td>\n",
              "      <td>0</td>\n",
              "      <td></td>\n",
              "      <td>#PresidentialDebate2020  was something out of ...</td>\n",
              "      <td>en</td>\n",
              "      <td>[presidentialdebate2020, presidentialdebate2020]</td>\n",
              "      <td>[]</td>\n",
              "      <td>...</td>\n",
              "      <td>0</td>\n",
              "      <td></td>\n",
              "      <td>PresidentialDebate2020</td>\n",
              "      <td></td>\n",
              "      <td></td>\n",
              "      <td></td>\n",
              "      <td>{'user_id': None, 'username': None}</td>\n",
              "      <td></td>\n",
              "      <td></td>\n",
              "      <td></td>\n",
              "    </tr>\n",
              "  </tbody>\n",
              "</table>\n",
              "<p>8811 rows × 33 columns</p>\n",
              "</div>\n",
              "      <button class=\"colab-df-convert\" onclick=\"convertToInteractive('df-39752d6a-b53e-4f34-b566-93407bbe33d6')\"\n",
              "              title=\"Convert this dataframe to an interactive table.\"\n",
              "              style=\"display:none;\">\n",
              "        \n",
              "  <svg xmlns=\"http://www.w3.org/2000/svg\" height=\"24px\"viewBox=\"0 0 24 24\"\n",
              "       width=\"24px\">\n",
              "    <path d=\"M0 0h24v24H0V0z\" fill=\"none\"/>\n",
              "    <path d=\"M18.56 5.44l.94 2.06.94-2.06 2.06-.94-2.06-.94-.94-2.06-.94 2.06-2.06.94zm-11 1L8.5 8.5l.94-2.06 2.06-.94-2.06-.94L8.5 2.5l-.94 2.06-2.06.94zm10 10l.94 2.06.94-2.06 2.06-.94-2.06-.94-.94-2.06-.94 2.06-2.06.94z\"/><path d=\"M17.41 7.96l-1.37-1.37c-.4-.4-.92-.59-1.43-.59-.52 0-1.04.2-1.43.59L10.3 9.45l-7.72 7.72c-.78.78-.78 2.05 0 2.83L4 21.41c.39.39.9.59 1.41.59.51 0 1.02-.2 1.41-.59l7.78-7.78 2.81-2.81c.8-.78.8-2.07 0-2.86zM5.41 20L4 18.59l7.72-7.72 1.47 1.35L5.41 20z\"/>\n",
              "  </svg>\n",
              "      </button>\n",
              "      \n",
              "  <style>\n",
              "    .colab-df-container {\n",
              "      display:flex;\n",
              "      flex-wrap:wrap;\n",
              "      gap: 12px;\n",
              "    }\n",
              "\n",
              "    .colab-df-convert {\n",
              "      background-color: #E8F0FE;\n",
              "      border: none;\n",
              "      border-radius: 50%;\n",
              "      cursor: pointer;\n",
              "      display: none;\n",
              "      fill: #1967D2;\n",
              "      height: 32px;\n",
              "      padding: 0 0 0 0;\n",
              "      width: 32px;\n",
              "    }\n",
              "\n",
              "    .colab-df-convert:hover {\n",
              "      background-color: #E2EBFA;\n",
              "      box-shadow: 0px 1px 2px rgba(60, 64, 67, 0.3), 0px 1px 3px 1px rgba(60, 64, 67, 0.15);\n",
              "      fill: #174EA6;\n",
              "    }\n",
              "\n",
              "    [theme=dark] .colab-df-convert {\n",
              "      background-color: #3B4455;\n",
              "      fill: #D2E3FC;\n",
              "    }\n",
              "\n",
              "    [theme=dark] .colab-df-convert:hover {\n",
              "      background-color: #434B5C;\n",
              "      box-shadow: 0px 1px 3px 1px rgba(0, 0, 0, 0.15);\n",
              "      filter: drop-shadow(0px 1px 2px rgba(0, 0, 0, 0.3));\n",
              "      fill: #FFFFFF;\n",
              "    }\n",
              "  </style>\n",
              "\n",
              "      <script>\n",
              "        const buttonEl =\n",
              "          document.querySelector('#df-39752d6a-b53e-4f34-b566-93407bbe33d6 button.colab-df-convert');\n",
              "        buttonEl.style.display =\n",
              "          google.colab.kernel.accessAllowed ? 'block' : 'none';\n",
              "\n",
              "        async function convertToInteractive(key) {\n",
              "          const element = document.querySelector('#df-39752d6a-b53e-4f34-b566-93407bbe33d6');\n",
              "          const dataTable =\n",
              "            await google.colab.kernel.invokeFunction('convertToInteractive',\n",
              "                                                     [key], {});\n",
              "          if (!dataTable) return;\n",
              "\n",
              "          const docLinkHtml = 'Like what you see? Visit the ' +\n",
              "            '<a target=\"_blank\" href=https://colab.research.google.com/notebooks/data_table.ipynb>data table notebook</a>'\n",
              "            + ' to learn more about interactive tables.';\n",
              "          element.innerHTML = '';\n",
              "          dataTable['output_type'] = 'display_data';\n",
              "          await google.colab.output.renderOutput(dataTable, element);\n",
              "          const docLink = document.createElement('div');\n",
              "          docLink.innerHTML = docLinkHtml;\n",
              "          element.appendChild(docLink);\n",
              "        }\n",
              "      </script>\n",
              "    </div>\n",
              "  </div>\n",
              "  "
            ]
          },
          "metadata": {},
          "execution_count": 24
        }
      ]
    },
    {
      "cell_type": "code",
      "metadata": {
        "id": "2d1NwWKfcGHb"
      },
      "source": [
        "X_new_tweets = preprocessTweets(data_tweets['tweet'])"
      ],
      "execution_count": 25,
      "outputs": []
    },
    {
      "cell_type": "code",
      "metadata": {
        "id": "7ArFwzxVx1FG"
      },
      "source": [
        "predictions_new_tweets = model.predict_proba(X_new_tweets)"
      ],
      "execution_count": 26,
      "outputs": []
    },
    {
      "cell_type": "code",
      "metadata": {
        "colab": {
          "base_uri": "https://localhost:8080/"
        },
        "id": "jI1hUHs6yDyp",
        "outputId": "01a7b457-85e0-4775-d54b-db6fe863d8d6"
      },
      "source": [
        "predictions_new_tweets"
      ],
      "execution_count": 27,
      "outputs": [
        {
          "output_type": "execute_result",
          "data": {
            "text/plain": [
              "array([[0.36471858, 0.63528142],\n",
              "       [0.6576234 , 0.3423766 ],\n",
              "       [0.34498307, 0.65501693],\n",
              "       ...,\n",
              "       [0.3937557 , 0.6062443 ],\n",
              "       [0.57080851, 0.42919149],\n",
              "       [0.82055616, 0.17944384]])"
            ]
          },
          "metadata": {},
          "execution_count": 27
        }
      ]
    },
    {
      "cell_type": "code",
      "metadata": {
        "id": "_PEZbznVyKxl"
      },
      "source": [
        "data_tweets['dem_probability'] = predictions_new_tweets[:,1]"
      ],
      "execution_count": 28,
      "outputs": []
    },
    {
      "cell_type": "code",
      "metadata": {
        "colab": {
          "base_uri": "https://localhost:8080/"
        },
        "id": "ZLOx-ajSyZ9X",
        "outputId": "60859b5e-0325-44bb-cd89-8c9e31941dbe"
      },
      "source": [
        "for tweet in data_tweets.sort_values('dem_probability')['tweet'][:10]:\n",
        "  print(tweet)\n",
        "  print('\\n')"
      ],
      "execution_count": 29,
      "outputs": [
        {
          "output_type": "stream",
          "name": "stdout",
          "text": [
            "@realDonaldTrump @MarkMeadows @senatemajldr @kevinomccarthy @SpeakerPelosi @SenSchumer Nancy Pelosi never listen and she never work for Americans. Made in China 🇨🇳#PresidentialDebate2020 #stimulus #2020Election #Trump2020 #MAGA  https://t.co/6dxhe01gao\n",
            "\n",
            "\n",
            "I can start marking all these Pro #Biden hashtags made by Chinese bots as spam now finally???? my god!!! Did Twitter eff up???? Did #chinabitchbiden trigger something???? #bidencares #votebidenharris #bidenharrislandslide #PresidentialDebate2020 #Trump2020 #MAGA @realDonaldTrump  https://t.co/BWjmt59zqx\n",
            "\n",
            "\n",
            "@CBSNews #PresidentialDebate2020 RIGGED SYSTEM! What the American People Want for topics: De-funding The police? Biden's Mental Fitness/Kamala Plan to Run Country? Increasing Taxes? Biden's Russian/China Collusion? Hunter's Relationship China/Russia? USA SHOULD DEMAND!  #LyingJoeBiden\n",
            "\n",
            "\n",
            "Senate found Hunter Biden got $3.5 from Moscow &amp; used this money to pay prostitutes connected to human trafficking. But Media &amp; Chris Wallace ignore this...More liberal biased Fake News Media!! #maga2020 #trump2020nowmorethanever #presidentialdebate2020 #conspiracytheory #maga\n",
            "\n",
            "\n",
            "@TheDemocrats you guys keep saying @realDonaldTrump lied?? Hmm 🤔 #Democrats #Leftists #PresidentialDebate2020 #Biden   https://t.co/4Y3ZEgoys2\n",
            "\n",
            "\n",
            "#PresidentialDebate2020 elections have been infiltrated by Chinese Communist Party !! Sign the Petition to Investigate, Condemn &amp; Reject the Chinese Communist Party #CCP #BidenCrimeFamily #COVID19 #ChinaVirus   https://reject ccp  https://t.co/PNO7Vx4JSD\n",
            "\n",
            "\n",
            "#PresidentialDebate2020 elections have been infiltrated by Chinese Communist Party !! Sign the Petition to Investigate, Condemn &amp; Reject the Chinese Communist Party #CCP #BidenCrimeFamily #COVID19 #Subversion   https://reject ccp  https://t.co/PNO7Vx4JSD\n",
            "\n",
            "\n",
            "@debates doesn't believe in free speech &amp; wants to mute microphones.  Let them talk without Wallace rescuing Biden multiple times!  Why are all the moderators liberal? Split debates evenly between conservative &amp; liberal mods. #PresidentialDebate2020 #FoxNews\n",
            "\n",
            "\n",
            "EXC: Debate Commission Member Tied To Transition Integrity Project, Chinese Communist Party-Linked Berggruen Institute  https://t.co/6phcVK9kVC via @TheNatPulse   .@GOP  @GOPChairwoman #CCP #Soros #PresidentialDebateCommission  #PresidentialDebate2020  @realDonaldTrump\n",
            "\n",
            "\n",
            "I can start marking all these Pro #Biden shittags as spam now finally???? my god!!! Did Twitter eff up???? Did #chinabitchbiden trigger something???? #bidencares #votebidenharris #bidenharrislandslide #PresidentialDebate2020 #Trump2020 #MAGA  https://t.co/MOOm0Daoyj\n",
            "\n",
            "\n"
          ]
        }
      ]
    },
    {
      "cell_type": "code",
      "metadata": {
        "colab": {
          "base_uri": "https://localhost:8080/"
        },
        "id": "tAyKpb5k4cs4",
        "outputId": "f60d5b50-8754-43fc-af4e-c08e81832bef"
      },
      "source": [
        "for tweet in data_tweets.sort_values('dem_probability')['tweet'][-10:]:\n",
        "  print(tweet)\n",
        "  print('\\n')"
      ],
      "execution_count": 30,
      "outputs": [
        {
          "output_type": "stream",
          "name": "stdout",
          "text": [
            "The racist president’s words written in black and white. #Debate2020 #PresidentialDebate2020   https://t.co/Ed9njTi8R3\n",
            "\n",
            "\n",
            "76% of the people watching the #PresidentialDebate2020 will be watching just to see Trump get muted.\n",
            "\n",
            "\n",
            "@axios @BretBaier Add in streaming views and Trump crushed it again! #PresidentialDebate2020\n",
            "\n",
            "\n",
            "...And were guests of Trump at first #PresidentialDebate2020\n",
            "\n",
            "\n",
            "#Trump  Mute him out Mute him out Mute him out  Next #PresidentialDebate2020\n",
            "\n",
            "\n",
            "rona really said fuck trump #PresidentialDebate2020 @realDonaldTrump\n",
            "\n",
            "\n",
            "\"I know I am but what am I.\" - Trump #BidenTrumpDebate #PresidentialDebate2020 #MorningJoe\n",
            "\n",
            "\n",
            "Trump caved!!!! 😂😂😂#JoeBidenKamalaHarris2020 #PresidentialDebate2020  #TrumpIsANationalDisgrace\n",
            "\n",
            "\n",
            "rona really said fuck trump  #PresidentialDebate2020\n",
            "\n",
            "\n",
            "Whose paying that black women behind trump to nod all day! #PresidentialDebate2020\n",
            "\n",
            "\n"
          ]
        }
      ]
    },
    {
      "cell_type": "markdown",
      "metadata": {
        "id": "ovMovor_uu-B"
      },
      "source": [
        "explainability"
      ]
    },
    {
      "cell_type": "code",
      "metadata": {
        "id": "chhLmKof46Hl",
        "colab": {
          "base_uri": "https://localhost:8080/"
        },
        "outputId": "1a53afb1-a8b9-4f83-d833-273eb9e11b9b"
      },
      "source": [
        "!pip -q install eli5"
      ],
      "execution_count": 31,
      "outputs": [
        {
          "output_type": "stream",
          "name": "stdout",
          "text": [
            "\u001b[K     |████████████████████████████████| 216 kB 7.4 MB/s \n",
            "\u001b[K     |████████████████████████████████| 133 kB 62.7 MB/s \n",
            "\u001b[?25h  Building wheel for eli5 (setup.py) ... \u001b[?25l\u001b[?25hdone\n",
            "\u001b[31mERROR: pip's dependency resolver does not currently take into account all the packages that are installed. This behaviour is the source of the following dependency conflicts.\n",
            "flask 1.1.4 requires Jinja2<3.0,>=2.10.1, but you have jinja2 3.1.2 which is incompatible.\u001b[0m\n"
          ]
        }
      ]
    },
    {
      "cell_type": "code",
      "metadata": {
        "colab": {
          "base_uri": "https://localhost:8080/",
          "height": 527
        },
        "id": "5_TKODLBuv3O",
        "outputId": "5cc065fc-6dc0-40b7-a399-6fcbb01a7dbf"
      },
      "source": [
        "import eli5\n",
        "eli5.show_weights(model[2], #we are pulling the model from the undersampling pipeline here (it has the index 2)\n",
        "                  feature_names=model[0].get_feature_names(), target_names=['rep','dem'], top=20)"
      ],
      "execution_count": 34,
      "outputs": [
        {
          "output_type": "stream",
          "name": "stderr",
          "text": [
            "/usr/local/lib/python3.7/dist-packages/sklearn/utils/deprecation.py:87: FutureWarning: Function get_feature_names is deprecated; get_feature_names is deprecated in 1.0 and will be removed in 1.2. Please use get_feature_names_out instead.\n",
            "  warnings.warn(msg, category=FutureWarning)\n"
          ]
        },
        {
          "output_type": "execute_result",
          "data": {
            "text/plain": [
              "<IPython.core.display.HTML object>"
            ],
            "text/html": [
              "\n",
              "    <style>\n",
              "    table.eli5-weights tr:hover {\n",
              "        filter: brightness(85%);\n",
              "    }\n",
              "</style>\n",
              "\n",
              "\n",
              "\n",
              "    \n",
              "\n",
              "    \n",
              "\n",
              "    \n",
              "\n",
              "    \n",
              "\n",
              "    \n",
              "\n",
              "    \n",
              "\n",
              "\n",
              "    \n",
              "\n",
              "    \n",
              "\n",
              "    \n",
              "\n",
              "    \n",
              "        \n",
              "\n",
              "    \n",
              "\n",
              "        \n",
              "            \n",
              "                \n",
              "                \n",
              "    \n",
              "        <p style=\"margin-bottom: 0.5em; margin-top: 0em\">\n",
              "            <b>\n",
              "    \n",
              "        y=dem\n",
              "    \n",
              "</b>\n",
              "\n",
              "top features\n",
              "        </p>\n",
              "    \n",
              "    <table class=\"eli5-weights\"\n",
              "           style=\"border-collapse: collapse; border: none; margin-top: 0em; table-layout: auto; margin-bottom: 2em;\">\n",
              "        <thead>\n",
              "        <tr style=\"border: none;\">\n",
              "            \n",
              "                <th style=\"padding: 0 1em 0 0.5em; text-align: right; border: none;\" title=\"Feature weights. Note that weights do not account for feature value scales, so if feature values have different scales, features with highest weights might not be the most important.\">\n",
              "                    Weight<sup>?</sup>\n",
              "                </th>\n",
              "            \n",
              "            <th style=\"padding: 0 0.5em 0 0.5em; text-align: left; border: none;\">Feature</th>\n",
              "            \n",
              "        </tr>\n",
              "        </thead>\n",
              "        <tbody>\n",
              "        \n",
              "            <tr style=\"background-color: hsl(120, 100.00%, 80.00%); border: none;\">\n",
              "    <td style=\"padding: 0 1em 0 0.5em; text-align: right; border: none;\">\n",
              "        +4.910\n",
              "    </td>\n",
              "    <td style=\"padding: 0 0.5em 0 0.5em; text-align: left; border: none;\">\n",
              "        forthepeople\n",
              "    </td>\n",
              "    \n",
              "</tr>\n",
              "        \n",
              "            <tr style=\"background-color: hsl(120, 100.00%, 80.08%); border: none;\">\n",
              "    <td style=\"padding: 0 1em 0 0.5em; text-align: right; border: none;\">\n",
              "        +4.881\n",
              "    </td>\n",
              "    <td style=\"padding: 0 0.5em 0 0.5em; text-align: left; border: none;\">\n",
              "        trump\n",
              "    </td>\n",
              "    \n",
              "</tr>\n",
              "        \n",
              "            <tr style=\"background-color: hsl(120, 100.00%, 82.07%); border: none;\">\n",
              "    <td style=\"padding: 0 1em 0 0.5em; text-align: right; border: none;\">\n",
              "        +4.199\n",
              "    </td>\n",
              "    <td style=\"padding: 0 0.5em 0 0.5em; text-align: left; border: none;\">\n",
              "        black\n",
              "    </td>\n",
              "    \n",
              "</tr>\n",
              "        \n",
              "            <tr style=\"background-color: hsl(120, 100.00%, 83.02%); border: none;\">\n",
              "    <td style=\"padding: 0 1em 0 0.5em; text-align: right; border: none;\">\n",
              "        +3.886\n",
              "    </td>\n",
              "    <td style=\"padding: 0 0.5em 0 0.5em; text-align: left; border: none;\">\n",
              "        climate\n",
              "    </td>\n",
              "    \n",
              "</tr>\n",
              "        \n",
              "            <tr style=\"background-color: hsl(120, 100.00%, 83.07%); border: none;\">\n",
              "    <td style=\"padding: 0 1em 0 0.5em; text-align: right; border: none;\">\n",
              "        +3.871\n",
              "    </td>\n",
              "    <td style=\"padding: 0 0.5em 0 0.5em; text-align: left; border: none;\">\n",
              "        democracy\n",
              "    </td>\n",
              "    \n",
              "</tr>\n",
              "        \n",
              "            <tr style=\"background-color: hsl(120, 100.00%, 84.10%); border: none;\">\n",
              "    <td style=\"padding: 0 1em 0 0.5em; text-align: right; border: none;\">\n",
              "        +3.539\n",
              "    </td>\n",
              "    <td style=\"padding: 0 0.5em 0 0.5em; text-align: left; border: none;\">\n",
              "        heroesact\n",
              "    </td>\n",
              "    \n",
              "</tr>\n",
              "        \n",
              "            <tr style=\"background-color: hsl(120, 100.00%, 84.22%); border: none;\">\n",
              "    <td style=\"padding: 0 1em 0 0.5em; text-align: right; border: none;\">\n",
              "        +3.500\n",
              "    </td>\n",
              "    <td style=\"padding: 0 0.5em 0 0.5em; text-align: left; border: none;\">\n",
              "        aca\n",
              "    </td>\n",
              "    \n",
              "</tr>\n",
              "        \n",
              "            <tr style=\"background-color: hsl(120, 100.00%, 84.47%); border: none;\">\n",
              "    <td style=\"padding: 0 1em 0 0.5em; text-align: right; border: none;\">\n",
              "        +3.422\n",
              "    </td>\n",
              "    <td style=\"padding: 0 0.5em 0 0.5em; text-align: left; border: none;\">\n",
              "        trumps\n",
              "    </td>\n",
              "    \n",
              "</tr>\n",
              "        \n",
              "        \n",
              "            <tr style=\"background-color: hsl(120, 100.00%, 84.47%); border: none;\">\n",
              "                <td colspan=\"2\" style=\"padding: 0 0.5em 0 0.5em; text-align: center; border: none; white-space: nowrap;\">\n",
              "                    <i>&hellip; 4829 more positive &hellip;</i>\n",
              "                </td>\n",
              "            </tr>\n",
              "        \n",
              "\n",
              "        \n",
              "            <tr style=\"background-color: hsl(0, 100.00%, 84.65%); border: none;\">\n",
              "                <td colspan=\"2\" style=\"padding: 0 0.5em 0 0.5em; text-align: center; border: none; white-space: nowrap;\">\n",
              "                    <i>&hellip; 4239 more negative &hellip;</i>\n",
              "                </td>\n",
              "            </tr>\n",
              "        \n",
              "        \n",
              "            <tr style=\"background-color: hsl(0, 100.00%, 84.65%); border: none;\">\n",
              "    <td style=\"padding: 0 1em 0 0.5em; text-align: right; border: none;\">\n",
              "        -3.366\n",
              "    </td>\n",
              "    <td style=\"padding: 0 0.5em 0 0.5em; text-align: left; border: none;\">\n",
              "        kentucky\n",
              "    </td>\n",
              "    \n",
              "</tr>\n",
              "        \n",
              "            <tr style=\"background-color: hsl(0, 100.00%, 84.60%); border: none;\">\n",
              "    <td style=\"padding: 0 1em 0 0.5em; text-align: right; border: none;\">\n",
              "        -3.381\n",
              "    </td>\n",
              "    <td style=\"padding: 0 0.5em 0 0.5em; text-align: left; border: none;\">\n",
              "        conservative\n",
              "    </td>\n",
              "    \n",
              "</tr>\n",
              "        \n",
              "            <tr style=\"background-color: hsl(0, 100.00%, 84.55%); border: none;\">\n",
              "    <td style=\"padding: 0 1em 0 0.5em; text-align: right; border: none;\">\n",
              "        -3.397\n",
              "    </td>\n",
              "    <td style=\"padding: 0 0.5em 0 0.5em; text-align: left; border: none;\">\n",
              "        communist\n",
              "    </td>\n",
              "    \n",
              "</tr>\n",
              "        \n",
              "            <tr style=\"background-color: hsl(0, 100.00%, 84.48%); border: none;\">\n",
              "    <td style=\"padding: 0 1em 0 0.5em; text-align: right; border: none;\">\n",
              "        -3.417\n",
              "    </td>\n",
              "    <td style=\"padding: 0 0.5em 0 0.5em; text-align: left; border: none;\">\n",
              "        ccp\n",
              "    </td>\n",
              "    \n",
              "</tr>\n",
              "        \n",
              "            <tr style=\"background-color: hsl(0, 100.00%, 83.40%); border: none;\">\n",
              "    <td style=\"padding: 0 1em 0 0.5em; text-align: right; border: none;\">\n",
              "        -3.762\n",
              "    </td>\n",
              "    <td style=\"padding: 0 0.5em 0 0.5em; text-align: left; border: none;\">\n",
              "        inittogether\n",
              "    </td>\n",
              "    \n",
              "</tr>\n",
              "        \n",
              "            <tr style=\"background-color: hsl(0, 100.00%, 83.23%); border: none;\">\n",
              "    <td style=\"padding: 0 1em 0 0.5em; text-align: right; border: none;\">\n",
              "        -3.817\n",
              "    </td>\n",
              "    <td style=\"padding: 0 0.5em 0 0.5em; text-align: left; border: none;\">\n",
              "        paycheckprotectionprogram\n",
              "    </td>\n",
              "    \n",
              "</tr>\n",
              "        \n",
              "            <tr style=\"background-color: hsl(0, 100.00%, 83.00%); border: none;\">\n",
              "    <td style=\"padding: 0 1em 0 0.5em; text-align: right; border: none;\">\n",
              "        -3.892\n",
              "    </td>\n",
              "    <td style=\"padding: 0 0.5em 0 0.5em; text-align: left; border: none;\">\n",
              "        ny21\n",
              "    </td>\n",
              "    \n",
              "</tr>\n",
              "        \n",
              "            <tr style=\"background-color: hsl(0, 100.00%, 82.99%); border: none;\">\n",
              "    <td style=\"padding: 0 1em 0 0.5em; text-align: right; border: none;\">\n",
              "        -3.896\n",
              "    </td>\n",
              "    <td style=\"padding: 0 0.5em 0 0.5em; text-align: left; border: none;\">\n",
              "        democrats\n",
              "    </td>\n",
              "    \n",
              "</tr>\n",
              "        \n",
              "            <tr style=\"background-color: hsl(0, 100.00%, 82.19%); border: none;\">\n",
              "    <td style=\"padding: 0 1em 0 0.5em; text-align: right; border: none;\">\n",
              "        -4.161\n",
              "    </td>\n",
              "    <td style=\"padding: 0 0.5em 0 0.5em; text-align: left; border: none;\">\n",
              "        pelosi\n",
              "    </td>\n",
              "    \n",
              "</tr>\n",
              "        \n",
              "            <tr style=\"background-color: hsl(0, 100.00%, 82.06%); border: none;\">\n",
              "    <td style=\"padding: 0 1em 0 0.5em; text-align: right; border: none;\">\n",
              "        -4.203\n",
              "    </td>\n",
              "    <td style=\"padding: 0 0.5em 0 0.5em; text-align: left; border: none;\">\n",
              "        gapol\n",
              "    </td>\n",
              "    \n",
              "</tr>\n",
              "        \n",
              "            <tr style=\"background-color: hsl(0, 100.00%, 81.91%); border: none;\">\n",
              "    <td style=\"padding: 0 1em 0 0.5em; text-align: right; border: none;\">\n",
              "        -4.256\n",
              "    </td>\n",
              "    <td style=\"padding: 0 0.5em 0 0.5em; text-align: left; border: none;\">\n",
              "        dems\n",
              "    </td>\n",
              "    \n",
              "</tr>\n",
              "        \n",
              "            <tr style=\"background-color: hsl(0, 100.00%, 80.16%); border: none;\">\n",
              "    <td style=\"padding: 0 1em 0 0.5em; text-align: right; border: none;\">\n",
              "        -4.853\n",
              "    </td>\n",
              "    <td style=\"padding: 0 0.5em 0 0.5em; text-align: left; border: none;\">\n",
              "        china\n",
              "    </td>\n",
              "    \n",
              "</tr>\n",
              "        \n",
              "\n",
              "        </tbody>\n",
              "    </table>\n",
              "\n",
              "            \n",
              "        \n",
              "\n",
              "        \n",
              "\n",
              "\n",
              "\n",
              "    \n",
              "\n",
              "    \n",
              "\n",
              "    \n",
              "\n",
              "    \n",
              "\n",
              "\n",
              "    \n",
              "\n",
              "    \n",
              "\n",
              "    \n",
              "\n",
              "    \n",
              "\n",
              "    \n",
              "\n",
              "    \n",
              "\n",
              "\n",
              "    \n",
              "\n",
              "    \n",
              "\n",
              "    \n",
              "\n",
              "    \n",
              "\n",
              "    \n",
              "\n",
              "    \n",
              "\n",
              "\n",
              "\n"
            ]
          },
          "metadata": {},
          "execution_count": 34
        }
      ]
    },
    {
      "cell_type": "code",
      "metadata": {
        "colab": {
          "base_uri": "https://localhost:8080/"
        },
        "id": "47yO4JOcux67",
        "outputId": "5b2fe824-8887-421d-e0ee-d107df7b7254"
      },
      "source": [],
      "execution_count": null,
      "outputs": [
        {
          "output_type": "execute_result",
          "data": {
            "text/plain": [
              "LogisticRegression(C=1.0, class_weight=None, dual=False, fit_intercept=True,\n",
              "                   intercept_scaling=1, l1_ratio=None, max_iter=100,\n",
              "                   multi_class='auto', n_jobs=None, penalty='l2',\n",
              "                   random_state=None, solver='lbfgs', tol=0.0001, verbose=0,\n",
              "                   warm_start=False)"
            ]
          },
          "metadata": {},
          "execution_count": 60
        }
      ]
    },
    {
      "cell_type": "code",
      "metadata": {
        "id": "dy5I9-BuwOjF"
      },
      "source": [
        "data_tweets['clean_tweet'] = preprocessTweets(data_tweets['tweet'])"
      ],
      "execution_count": 35,
      "outputs": []
    },
    {
      "cell_type": "code",
      "metadata": {
        "colab": {
          "base_uri": "https://localhost:8080/",
          "height": 169
        },
        "id": "7EEXh-CQvXn_",
        "outputId": "5e9d1dd7-44b5-47a8-bf59-16b1844cfe88"
      },
      "source": [
        "eli5.show_prediction(model[2], data_tweets['clean_tweet'][5237], vec=model[0], target_names=['rep','dem'])"
      ],
      "execution_count": 36,
      "outputs": [
        {
          "output_type": "execute_result",
          "data": {
            "text/plain": [
              "<IPython.core.display.HTML object>"
            ],
            "text/html": [
              "\n",
              "    <style>\n",
              "    table.eli5-weights tr:hover {\n",
              "        filter: brightness(85%);\n",
              "    }\n",
              "</style>\n",
              "\n",
              "\n",
              "\n",
              "    \n",
              "\n",
              "    \n",
              "\n",
              "    \n",
              "\n",
              "    \n",
              "\n",
              "    \n",
              "\n",
              "    \n",
              "\n",
              "\n",
              "    \n",
              "\n",
              "    \n",
              "\n",
              "    \n",
              "\n",
              "    \n",
              "        \n",
              "\n",
              "    \n",
              "\n",
              "        \n",
              "\n",
              "        \n",
              "    \n",
              "        \n",
              "        \n",
              "    \n",
              "        <p style=\"margin-bottom: 0.5em; margin-top: 0em\">\n",
              "            <b>\n",
              "    \n",
              "        y=rep\n",
              "    \n",
              "</b>\n",
              "\n",
              "    \n",
              "    (probability <b>0.580</b>, score <b>-0.322</b>)\n",
              "\n",
              "top features\n",
              "        </p>\n",
              "    \n",
              "    <table class=\"eli5-weights\"\n",
              "           style=\"border-collapse: collapse; border: none; margin-top: 0em; table-layout: auto; margin-bottom: 2em;\">\n",
              "        <thead>\n",
              "        <tr style=\"border: none;\">\n",
              "            \n",
              "                <th style=\"padding: 0 1em 0 0.5em; text-align: right; border: none;\" title=\"Feature contribution already accounts for the feature value (for linear models, contribution = weight * feature value), and the sum of feature contributions is equal to the score or, for some classifiers, to the probability. Feature values are shown if &quot;show_feature_values&quot; is True.\">\n",
              "                    Contribution<sup>?</sup>\n",
              "                </th>\n",
              "            \n",
              "            <th style=\"padding: 0 0.5em 0 0.5em; text-align: left; border: none;\">Feature</th>\n",
              "            \n",
              "        </tr>\n",
              "        </thead>\n",
              "        <tbody>\n",
              "        \n",
              "            <tr style=\"background-color: hsl(120, 100.00%, 80.00%); border: none;\">\n",
              "    <td style=\"padding: 0 1em 0 0.5em; text-align: right; border: none;\">\n",
              "        +0.369\n",
              "    </td>\n",
              "    <td style=\"padding: 0 0.5em 0 0.5em; text-align: left; border: none;\">\n",
              "        &lt;BIAS&gt;\n",
              "    </td>\n",
              "    \n",
              "</tr>\n",
              "        \n",
              "        \n",
              "\n",
              "        \n",
              "        \n",
              "            <tr style=\"background-color: hsl(0, 100.00%, 95.33%); border: none;\">\n",
              "    <td style=\"padding: 0 1em 0 0.5em; text-align: right; border: none;\">\n",
              "        -0.046\n",
              "    </td>\n",
              "    <td style=\"padding: 0 0.5em 0 0.5em; text-align: left; border: none;\">\n",
              "        Highlighted in text (sum)\n",
              "    </td>\n",
              "    \n",
              "</tr>\n",
              "        \n",
              "\n",
              "        </tbody>\n",
              "    </table>\n",
              "\n",
              "    \n",
              "\n",
              "\n",
              "\n",
              "    <p style=\"margin-bottom: 2.5em; margin-top:-0.5em;\">\n",
              "        <span style=\"opacity: 0.80\">or for </span><span style=\"background-color: hsl(0, 100.00%, 90.03%); opacity: 0.83\" title=\"-0.015\">president</span><span style=\"opacity: 0.80\">! much better </span><span style=\"background-color: hsl(120, 100.00%, 98.16%); opacity: 0.80\" title=\"0.001\">candidates</span><span style=\"opacity: 0.80\"> than or . </span><span style=\"background-color: hsl(0, 100.00%, 60.00%); opacity: 1.00\" title=\"-0.113\">presidential</span><span style=\"opacity: 0.80\"> presidentialdebate2020 uselection2020 </span><span style=\"background-color: hsl(120, 100.00%, 68.33%); opacity: 0.94\" title=\"0.081\">vpdebate</span><span style=\"opacity: 0.80\"> vpdebates</span>\n",
              "    </p>\n",
              "\n",
              "\n",
              "    \n",
              "\n",
              "    \n",
              "\n",
              "    \n",
              "\n",
              "    \n",
              "\n",
              "\n",
              "    \n",
              "\n",
              "    \n",
              "\n",
              "    \n",
              "\n",
              "    \n",
              "\n",
              "    \n",
              "\n",
              "    \n",
              "\n",
              "\n",
              "    \n",
              "\n",
              "    \n",
              "\n",
              "    \n",
              "\n",
              "    \n",
              "\n",
              "    \n",
              "\n",
              "    \n",
              "\n",
              "\n",
              "\n"
            ]
          },
          "metadata": {},
          "execution_count": 36
        }
      ]
    },
    {
      "cell_type": "code",
      "metadata": {
        "id": "WDOzuuFavuFT"
      },
      "source": [],
      "execution_count": null,
      "outputs": []
    }
  ]
}