{
  "nbformat": 4,
  "nbformat_minor": 0,
  "metadata": {
    "colab": {
      "name": "DSBA21-W1-1.ipynb",
      "provenance": [],
      "authorship_tag": "ABX9TyM577eRz1+Tfr2FVpOANz6z",
      "include_colab_link": true
    },
    "kernelspec": {
      "name": "python3",
      "display_name": "Python 3"
    },
    "language_info": {
      "name": "python"
    }
  },
  "cells": [
    {
      "cell_type": "markdown",
      "metadata": {
        "id": "view-in-github",
        "colab_type": "text"
      },
      "source": [
        "<a href=\"https://colab.research.google.com/github/SDS-AAU/DSBA-2021/blob/master/static/notebooks/DSBA21_W1_1.ipynb\" target=\"_parent\"><img src=\"https://colab.research.google.com/assets/colab-badge.svg\" alt=\"Open In Colab\"/></a>"
      ]
    },
    {
      "cell_type": "code",
      "metadata": {
        "id": "_H0R2izDY8RG"
      },
      "source": [
        "import pandas as pd\n",
        "import seaborn as sns"
      ],
      "execution_count": 17,
      "outputs": []
    },
    {
      "cell_type": "code",
      "metadata": {
        "colab": {
          "base_uri": "https://localhost:8080/"
        },
        "id": "l_fqo3kxZJ5f",
        "outputId": "e485196c-7093-4cc8-b291-c3333741d9f0"
      },
      "source": [
        "data = pd.read_csv('https://stacks.stanford.edu/file/druid:yg821jf8611/yg821jf8611_la_new_orleans_2020_04_01.csv.zip')"
      ],
      "execution_count": 2,
      "outputs": [
        {
          "output_type": "stream",
          "name": "stderr",
          "text": [
            "/usr/local/lib/python3.7/dist-packages/IPython/core/interactiveshell.py:2718: DtypeWarning: Columns (6) have mixed types.Specify dtype option on import or set low_memory=False.\n",
            "  interactivity=interactivity, compiler=compiler, result=result)\n"
          ]
        }
      ]
    },
    {
      "cell_type": "code",
      "metadata": {
        "colab": {
          "base_uri": "https://localhost:8080/",
          "height": 313
        },
        "id": "9-sfkCiIZMtU",
        "outputId": "cf955bd7-5a3c-42ee-c524-6274f126b216"
      },
      "source": [
        "data.head()"
      ],
      "execution_count": 3,
      "outputs": [
        {
          "output_type": "execute_result",
          "data": {
            "text/html": [
              "<div>\n",
              "<style scoped>\n",
              "    .dataframe tbody tr th:only-of-type {\n",
              "        vertical-align: middle;\n",
              "    }\n",
              "\n",
              "    .dataframe tbody tr th {\n",
              "        vertical-align: top;\n",
              "    }\n",
              "\n",
              "    .dataframe thead th {\n",
              "        text-align: right;\n",
              "    }\n",
              "</style>\n",
              "<table border=\"1\" class=\"dataframe\">\n",
              "  <thead>\n",
              "    <tr style=\"text-align: right;\">\n",
              "      <th></th>\n",
              "      <th>raw_row_number</th>\n",
              "      <th>date</th>\n",
              "      <th>time</th>\n",
              "      <th>location</th>\n",
              "      <th>lat</th>\n",
              "      <th>lng</th>\n",
              "      <th>district</th>\n",
              "      <th>zone</th>\n",
              "      <th>subject_age</th>\n",
              "      <th>subject_race</th>\n",
              "      <th>subject_sex</th>\n",
              "      <th>officer_assignment</th>\n",
              "      <th>type</th>\n",
              "      <th>arrest_made</th>\n",
              "      <th>citation_issued</th>\n",
              "      <th>warning_issued</th>\n",
              "      <th>outcome</th>\n",
              "      <th>contraband_found</th>\n",
              "      <th>contraband_drugs</th>\n",
              "      <th>contraband_weapons</th>\n",
              "      <th>frisk_performed</th>\n",
              "      <th>search_conducted</th>\n",
              "      <th>search_person</th>\n",
              "      <th>search_vehicle</th>\n",
              "      <th>search_basis</th>\n",
              "      <th>reason_for_stop</th>\n",
              "      <th>vehicle_color</th>\n",
              "      <th>vehicle_make</th>\n",
              "      <th>vehicle_model</th>\n",
              "      <th>vehicle_year</th>\n",
              "      <th>raw_actions_taken</th>\n",
              "      <th>raw_subject_race</th>\n",
              "    </tr>\n",
              "  </thead>\n",
              "  <tbody>\n",
              "    <tr>\n",
              "      <th>0</th>\n",
              "      <td>1</td>\n",
              "      <td>2010-01-01</td>\n",
              "      <td>01:11:00</td>\n",
              "      <td>NaN</td>\n",
              "      <td>NaN</td>\n",
              "      <td>NaN</td>\n",
              "      <td>6</td>\n",
              "      <td>E</td>\n",
              "      <td>26.0</td>\n",
              "      <td>black</td>\n",
              "      <td>female</td>\n",
              "      <td>6th  District</td>\n",
              "      <td>vehicular</td>\n",
              "      <td>False</td>\n",
              "      <td>False</td>\n",
              "      <td>False</td>\n",
              "      <td>NaN</td>\n",
              "      <td>NaN</td>\n",
              "      <td>NaN</td>\n",
              "      <td>NaN</td>\n",
              "      <td>False</td>\n",
              "      <td>False</td>\n",
              "      <td>False</td>\n",
              "      <td>False</td>\n",
              "      <td>NaN</td>\n",
              "      <td>TRAFFIC VIOLATION</td>\n",
              "      <td>BLACK</td>\n",
              "      <td>DODGE</td>\n",
              "      <td>CARAVAN</td>\n",
              "      <td>2005.0</td>\n",
              "      <td>NaN</td>\n",
              "      <td>BLACK</td>\n",
              "    </tr>\n",
              "    <tr>\n",
              "      <th>1</th>\n",
              "      <td>9087</td>\n",
              "      <td>2010-01-01</td>\n",
              "      <td>01:29:00</td>\n",
              "      <td>NaN</td>\n",
              "      <td>NaN</td>\n",
              "      <td>NaN</td>\n",
              "      <td>7</td>\n",
              "      <td>C</td>\n",
              "      <td>37.0</td>\n",
              "      <td>black</td>\n",
              "      <td>male</td>\n",
              "      <td>7th  District</td>\n",
              "      <td>vehicular</td>\n",
              "      <td>False</td>\n",
              "      <td>False</td>\n",
              "      <td>False</td>\n",
              "      <td>NaN</td>\n",
              "      <td>NaN</td>\n",
              "      <td>NaN</td>\n",
              "      <td>NaN</td>\n",
              "      <td>False</td>\n",
              "      <td>False</td>\n",
              "      <td>False</td>\n",
              "      <td>False</td>\n",
              "      <td>NaN</td>\n",
              "      <td>TRAFFIC VIOLATION</td>\n",
              "      <td>BLUE</td>\n",
              "      <td>NISSAN</td>\n",
              "      <td>MURANO</td>\n",
              "      <td>2005.0</td>\n",
              "      <td>NaN</td>\n",
              "      <td>BLACK</td>\n",
              "    </tr>\n",
              "    <tr>\n",
              "      <th>2</th>\n",
              "      <td>9086</td>\n",
              "      <td>2010-01-01</td>\n",
              "      <td>01:29:00</td>\n",
              "      <td>NaN</td>\n",
              "      <td>NaN</td>\n",
              "      <td>NaN</td>\n",
              "      <td>7</td>\n",
              "      <td>C</td>\n",
              "      <td>37.0</td>\n",
              "      <td>black</td>\n",
              "      <td>male</td>\n",
              "      <td>7th  District</td>\n",
              "      <td>vehicular</td>\n",
              "      <td>False</td>\n",
              "      <td>False</td>\n",
              "      <td>False</td>\n",
              "      <td>NaN</td>\n",
              "      <td>NaN</td>\n",
              "      <td>NaN</td>\n",
              "      <td>NaN</td>\n",
              "      <td>False</td>\n",
              "      <td>False</td>\n",
              "      <td>False</td>\n",
              "      <td>False</td>\n",
              "      <td>NaN</td>\n",
              "      <td>TRAFFIC VIOLATION</td>\n",
              "      <td>BLUE</td>\n",
              "      <td>NISSAN</td>\n",
              "      <td>MURANO</td>\n",
              "      <td>2005.0</td>\n",
              "      <td>NaN</td>\n",
              "      <td>BLACK</td>\n",
              "    </tr>\n",
              "    <tr>\n",
              "      <th>3</th>\n",
              "      <td>267</td>\n",
              "      <td>2010-01-01</td>\n",
              "      <td>14:00:00</td>\n",
              "      <td>NaN</td>\n",
              "      <td>NaN</td>\n",
              "      <td>NaN</td>\n",
              "      <td>7</td>\n",
              "      <td>I</td>\n",
              "      <td>96.0</td>\n",
              "      <td>black</td>\n",
              "      <td>male</td>\n",
              "      <td>7th  District</td>\n",
              "      <td>vehicular</td>\n",
              "      <td>False</td>\n",
              "      <td>False</td>\n",
              "      <td>False</td>\n",
              "      <td>NaN</td>\n",
              "      <td>NaN</td>\n",
              "      <td>NaN</td>\n",
              "      <td>NaN</td>\n",
              "      <td>False</td>\n",
              "      <td>False</td>\n",
              "      <td>False</td>\n",
              "      <td>False</td>\n",
              "      <td>NaN</td>\n",
              "      <td>TRAFFIC VIOLATION</td>\n",
              "      <td>GRAY</td>\n",
              "      <td>JEEP</td>\n",
              "      <td>GRAND CHEROKEE</td>\n",
              "      <td>2003.0</td>\n",
              "      <td>NaN</td>\n",
              "      <td>BLACK</td>\n",
              "    </tr>\n",
              "    <tr>\n",
              "      <th>4</th>\n",
              "      <td>2</td>\n",
              "      <td>2010-01-01</td>\n",
              "      <td>02:06:00</td>\n",
              "      <td>NaN</td>\n",
              "      <td>NaN</td>\n",
              "      <td>NaN</td>\n",
              "      <td>5</td>\n",
              "      <td>D</td>\n",
              "      <td>17.0</td>\n",
              "      <td>black</td>\n",
              "      <td>male</td>\n",
              "      <td>5th  District</td>\n",
              "      <td>NaN</td>\n",
              "      <td>False</td>\n",
              "      <td>False</td>\n",
              "      <td>False</td>\n",
              "      <td>NaN</td>\n",
              "      <td>NaN</td>\n",
              "      <td>NaN</td>\n",
              "      <td>NaN</td>\n",
              "      <td>False</td>\n",
              "      <td>False</td>\n",
              "      <td>False</td>\n",
              "      <td>False</td>\n",
              "      <td>NaN</td>\n",
              "      <td>CALL FOR SERVICE</td>\n",
              "      <td>NaN</td>\n",
              "      <td>NaN</td>\n",
              "      <td>NaN</td>\n",
              "      <td>NaN</td>\n",
              "      <td>NaN</td>\n",
              "      <td>BLACK</td>\n",
              "    </tr>\n",
              "  </tbody>\n",
              "</table>\n",
              "</div>"
            ],
            "text/plain": [
              "  raw_row_number        date  ... raw_actions_taken raw_subject_race\n",
              "0              1  2010-01-01  ...               NaN            BLACK\n",
              "1           9087  2010-01-01  ...               NaN            BLACK\n",
              "2           9086  2010-01-01  ...               NaN            BLACK\n",
              "3            267  2010-01-01  ...               NaN            BLACK\n",
              "4              2  2010-01-01  ...               NaN            BLACK\n",
              "\n",
              "[5 rows x 32 columns]"
            ]
          },
          "metadata": {},
          "execution_count": 3
        }
      ]
    },
    {
      "cell_type": "code",
      "metadata": {
        "colab": {
          "base_uri": "https://localhost:8080/"
        },
        "id": "rQaknv2ZZVQx",
        "outputId": "47ecd601-7adf-442a-ca86-38e43f50b801"
      },
      "source": [
        "data.info()"
      ],
      "execution_count": 4,
      "outputs": [
        {
          "output_type": "stream",
          "name": "stdout",
          "text": [
            "<class 'pandas.core.frame.DataFrame'>\n",
            "RangeIndex: 512092 entries, 0 to 512091\n",
            "Data columns (total 32 columns):\n",
            " #   Column              Non-Null Count   Dtype  \n",
            "---  ------              --------------   -----  \n",
            " 0   raw_row_number      512092 non-null  object \n",
            " 1   date                512088 non-null  object \n",
            " 2   time                512092 non-null  object \n",
            " 3   location            416106 non-null  object \n",
            " 4   lat                 260408 non-null  float64\n",
            " 5   lng                 260408 non-null  float64\n",
            " 6   district            512092 non-null  object \n",
            " 7   zone                512092 non-null  object \n",
            " 8   subject_age         499306 non-null  float64\n",
            " 9   subject_race        500362 non-null  object \n",
            " 10  subject_sex         500362 non-null  object \n",
            " 11  officer_assignment  511969 non-null  object \n",
            " 12  type                362185 non-null  object \n",
            " 13  arrest_made         512092 non-null  bool   \n",
            " 14  citation_issued     512092 non-null  bool   \n",
            " 15  warning_issued      512092 non-null  bool   \n",
            " 16  outcome             335605 non-null  object \n",
            " 17  contraband_found    75791 non-null   object \n",
            " 18  contraband_drugs    75791 non-null   object \n",
            " 19  contraband_weapons  75791 non-null   object \n",
            " 20  frisk_performed     512092 non-null  bool   \n",
            " 21  search_conducted    512092 non-null  bool   \n",
            " 22  search_person       512092 non-null  bool   \n",
            " 23  search_vehicle      512092 non-null  bool   \n",
            " 24  search_basis        75791 non-null   object \n",
            " 25  reason_for_stop     512092 non-null  object \n",
            " 26  vehicle_color       272954 non-null  object \n",
            " 27  vehicle_make        276327 non-null  object \n",
            " 28  vehicle_model       259110 non-null  object \n",
            " 29  vehicle_year        271704 non-null  float64\n",
            " 30  raw_actions_taken   389637 non-null  object \n",
            " 31  raw_subject_race    500362 non-null  object \n",
            "dtypes: bool(7), float64(4), object(21)\n",
            "memory usage: 101.1+ MB\n"
          ]
        }
      ]
    },
    {
      "cell_type": "code",
      "metadata": {
        "id": "e6mBStwnZV8t"
      },
      "source": [
        "data['datetime'] = data['date'].str.cat(data['time'], ' ')"
      ],
      "execution_count": 8,
      "outputs": []
    },
    {
      "cell_type": "code",
      "metadata": {
        "id": "cKIh7AdZfsW3"
      },
      "source": [
        "data.index = pd.to_datetime(data['datetime'])"
      ],
      "execution_count": 11,
      "outputs": []
    },
    {
      "cell_type": "code",
      "metadata": {
        "colab": {
          "base_uri": "https://localhost:8080/"
        },
        "id": "2Wdzc__VgpfQ",
        "outputId": "d27557da-227c-48bd-c62d-f26dcbb94356"
      },
      "source": [
        "\n",
        "data.index"
      ],
      "execution_count": 14,
      "outputs": [
        {
          "output_type": "execute_result",
          "data": {
            "text/plain": [
              "DatetimeIndex(['2010-01-01 01:11:00', '2010-01-01 01:29:00',\n",
              "               '2010-01-01 01:29:00', '2010-01-01 14:00:00',\n",
              "               '2010-01-01 02:06:00', '2010-01-01 02:06:00',\n",
              "               '2010-01-01 02:06:00', '2010-01-01 02:06:00',\n",
              "               '2010-01-01 02:06:00', '2010-01-01 02:06:00',\n",
              "               ...\n",
              "               '2017-12-31 00:28:00', '2017-12-31 00:28:00',\n",
              "               '2017-12-31 00:35:00', '2017-12-31 12:40:00',\n",
              "               '2017-12-31 00:48:00', '2017-12-31 00:48:00',\n",
              "               '2017-12-31 00:48:00', '2017-12-31 00:48:00',\n",
              "               '2017-12-31 00:48:00', '2017-12-31 12:49:00'],\n",
              "              dtype='datetime64[ns]', name='datetime', length=512092, freq=None)"
            ]
          },
          "metadata": {},
          "execution_count": 14
        }
      ]
    },
    {
      "cell_type": "markdown",
      "metadata": {
        "id": "6QJf5pnCiTvX"
      },
      "source": [
        "## Ideas to look into stuff?\n",
        "\n",
        "- Crosstabs / Distribution of Sex / Race\n",
        "- Searches conducted\n",
        "- Drugs / weapons found?\n",
        "- Expensive cars vs cheap cars - proxy by vehicle age (option)\n",
        "- Sex / Race / Age vs stop-outcome\n"
      ]
    },
    {
      "cell_type": "code",
      "metadata": {
        "colab": {
          "base_uri": "https://localhost:8080/"
        },
        "id": "b7KinDF-gkve",
        "outputId": "d4bfbb0c-2178-49c8-b742-41bbd23019e7"
      },
      "source": [
        "# single distrubution / count\n",
        "\n",
        "data.subject_race.value_counts(normalize=True)"
      ],
      "execution_count": 18,
      "outputs": [
        {
          "output_type": "execute_result",
          "data": {
            "text/plain": [
              "black                     0.699132\n",
              "white                     0.259218\n",
              "hispanic                  0.026962\n",
              "asian/pacific islander    0.007581\n",
              "unknown                   0.006423\n",
              "other                     0.000684\n",
              "Name: subject_race, dtype: float64"
            ]
          },
          "metadata": {},
          "execution_count": 18
        }
      ]
    },
    {
      "cell_type": "code",
      "metadata": {
        "colab": {
          "base_uri": "https://localhost:8080/"
        },
        "id": "gWDWsYoXnHX9",
        "outputId": "680ea28d-187d-4c5f-9e8b-3e766a11de8a"
      },
      "source": [
        "data.groupby(['subject_race','reason_for_stop']).size()"
      ],
      "execution_count": 32,
      "outputs": [
        {
          "output_type": "execute_result",
          "data": {
            "text/plain": [
              "subject_race            reason_for_stop       \n",
              "asian/pacific islander  CALL FOR SERVICE             378\n",
              "                        CITIZEN CONTACT               64\n",
              "                        CRIMINAL VIOLATION           125\n",
              "                        FLAGGED DOWN                  16\n",
              "                        JUVENILE VIOLATION             1\n",
              "                        OTHER                        119\n",
              "                        PRESENT AT CRIME SCENE         1\n",
              "                        SUSPECT PERSON               134\n",
              "                        SUSPECT VEHICLE               22\n",
              "                        TRAFFIC VIOLATION           2933\n",
              "black                   CALL FOR SERVICE           48879\n",
              "                        CITIZEN CONTACT            11232\n",
              "                        CRIMINAL VIOLATION         16069\n",
              "                        FLAGGED DOWN                2355\n",
              "                        JUVENILE VIOLATION          2833\n",
              "                        OTHER                      17871\n",
              "                        PRESENT AT CRIME SCENE       626\n",
              "                        SUSPECT PERSON             48386\n",
              "                        SUSPECT VEHICLE             4219\n",
              "                        TRAFFIC VIOLATION         197349\n",
              "hispanic                CALL FOR SERVICE            1805\n",
              "                        CITIZEN CONTACT              285\n",
              "                        CRIMINAL VIOLATION           681\n",
              "                        FLAGGED DOWN                 153\n",
              "                        JUVENILE VIOLATION            17\n",
              "                        OTHER                        504\n",
              "                        PRESENT AT CRIME SCENE        24\n",
              "                        SUSPECT PERSON               911\n",
              "                        SUSPECT VEHICLE              119\n",
              "                        TRAFFIC VIOLATION           8992\n",
              "other                   CALL FOR SERVICE              38\n",
              "                        CITIZEN CONTACT                7\n",
              "                        CRIMINAL VIOLATION            15\n",
              "                        FLAGGED DOWN                   2\n",
              "                        OTHER                         14\n",
              "                        PRESENT AT CRIME SCENE         1\n",
              "                        SUSPECT PERSON                20\n",
              "                        TRAFFIC VIOLATION            245\n",
              "unknown                 CALL FOR SERVICE             283\n",
              "                        CITIZEN CONTACT               48\n",
              "                        CRIMINAL VIOLATION            71\n",
              "                        FLAGGED DOWN                  22\n",
              "                        JUVENILE VIOLATION             1\n",
              "                        OTHER                         92\n",
              "                        PRESENT AT CRIME SCENE         3\n",
              "                        SUSPECT PERSON                93\n",
              "                        SUSPECT VEHICLE               21\n",
              "                        TRAFFIC VIOLATION           2580\n",
              "white                   CALL FOR SERVICE           18719\n",
              "                        CITIZEN CONTACT             4172\n",
              "                        CRIMINAL VIOLATION         13043\n",
              "                        FLAGGED DOWN                1890\n",
              "                        JUVENILE VIOLATION           260\n",
              "                        OTHER                       5606\n",
              "                        PRESENT AT CRIME SCENE       133\n",
              "                        SUSPECT PERSON             13966\n",
              "                        SUSPECT VEHICLE             1168\n",
              "                        TRAFFIC VIOLATION          70746\n",
              "dtype: int64"
            ]
          },
          "metadata": {},
          "execution_count": 32
        }
      ]
    },
    {
      "cell_type": "code",
      "metadata": {
        "colab": {
          "base_uri": "https://localhost:8080/",
          "height": 354
        },
        "id": "R7-SnfZwnfCh",
        "outputId": "2cccd90c-215e-4dfd-c238-ffd287f358ff"
      },
      "source": [
        "pd.crosstab(data.subject_race, data.reason_for_stop, normalize='columns')"
      ],
      "execution_count": 72,
      "outputs": [
        {
          "output_type": "execute_result",
          "data": {
            "text/html": [
              "<div>\n",
              "<style scoped>\n",
              "    .dataframe tbody tr th:only-of-type {\n",
              "        vertical-align: middle;\n",
              "    }\n",
              "\n",
              "    .dataframe tbody tr th {\n",
              "        vertical-align: top;\n",
              "    }\n",
              "\n",
              "    .dataframe thead th {\n",
              "        text-align: right;\n",
              "    }\n",
              "</style>\n",
              "<table border=\"1\" class=\"dataframe\">\n",
              "  <thead>\n",
              "    <tr style=\"text-align: right;\">\n",
              "      <th>reason_for_stop</th>\n",
              "      <th>CALL FOR SERVICE</th>\n",
              "      <th>CITIZEN CONTACT</th>\n",
              "      <th>CRIMINAL VIOLATION</th>\n",
              "      <th>FLAGGED DOWN</th>\n",
              "      <th>JUVENILE VIOLATION</th>\n",
              "      <th>OTHER</th>\n",
              "      <th>PRESENT AT CRIME SCENE</th>\n",
              "      <th>SUSPECT PERSON</th>\n",
              "      <th>SUSPECT VEHICLE</th>\n",
              "      <th>TRAFFIC VIOLATION</th>\n",
              "    </tr>\n",
              "    <tr>\n",
              "      <th>subject_race</th>\n",
              "      <th></th>\n",
              "      <th></th>\n",
              "      <th></th>\n",
              "      <th></th>\n",
              "      <th></th>\n",
              "      <th></th>\n",
              "      <th></th>\n",
              "      <th></th>\n",
              "      <th></th>\n",
              "      <th></th>\n",
              "    </tr>\n",
              "  </thead>\n",
              "  <tbody>\n",
              "    <tr>\n",
              "      <th>asian/pacific islander</th>\n",
              "      <td>0.005392</td>\n",
              "      <td>0.004049</td>\n",
              "      <td>0.004166</td>\n",
              "      <td>0.003605</td>\n",
              "      <td>0.000321</td>\n",
              "      <td>0.004916</td>\n",
              "      <td>0.001269</td>\n",
              "      <td>0.002110</td>\n",
              "      <td>0.003965</td>\n",
              "      <td>0.010370</td>\n",
              "    </tr>\n",
              "    <tr>\n",
              "      <th>black</th>\n",
              "      <td>0.697255</td>\n",
              "      <td>0.710526</td>\n",
              "      <td>0.535562</td>\n",
              "      <td>0.530644</td>\n",
              "      <td>0.910347</td>\n",
              "      <td>0.738288</td>\n",
              "      <td>0.794416</td>\n",
              "      <td>0.761864</td>\n",
              "      <td>0.760317</td>\n",
              "      <td>0.697728</td>\n",
              "    </tr>\n",
              "    <tr>\n",
              "      <th>hispanic</th>\n",
              "      <td>0.025748</td>\n",
              "      <td>0.018029</td>\n",
              "      <td>0.022697</td>\n",
              "      <td>0.034475</td>\n",
              "      <td>0.005463</td>\n",
              "      <td>0.020821</td>\n",
              "      <td>0.030457</td>\n",
              "      <td>0.014344</td>\n",
              "      <td>0.021445</td>\n",
              "      <td>0.031791</td>\n",
              "    </tr>\n",
              "    <tr>\n",
              "      <th>other</th>\n",
              "      <td>0.000542</td>\n",
              "      <td>0.000443</td>\n",
              "      <td>0.000500</td>\n",
              "      <td>0.000451</td>\n",
              "      <td>0.000000</td>\n",
              "      <td>0.000578</td>\n",
              "      <td>0.001269</td>\n",
              "      <td>0.000315</td>\n",
              "      <td>0.000000</td>\n",
              "      <td>0.000866</td>\n",
              "    </tr>\n",
              "    <tr>\n",
              "      <th>unknown</th>\n",
              "      <td>0.004037</td>\n",
              "      <td>0.003036</td>\n",
              "      <td>0.002366</td>\n",
              "      <td>0.004957</td>\n",
              "      <td>0.000321</td>\n",
              "      <td>0.003801</td>\n",
              "      <td>0.003807</td>\n",
              "      <td>0.001464</td>\n",
              "      <td>0.003784</td>\n",
              "      <td>0.009122</td>\n",
              "    </tr>\n",
              "    <tr>\n",
              "      <th>white</th>\n",
              "      <td>0.267025</td>\n",
              "      <td>0.263917</td>\n",
              "      <td>0.434709</td>\n",
              "      <td>0.425868</td>\n",
              "      <td>0.083548</td>\n",
              "      <td>0.231595</td>\n",
              "      <td>0.168782</td>\n",
              "      <td>0.219902</td>\n",
              "      <td>0.210488</td>\n",
              "      <td>0.250123</td>\n",
              "    </tr>\n",
              "  </tbody>\n",
              "</table>\n",
              "</div>"
            ],
            "text/plain": [
              "reason_for_stop         CALL FOR SERVICE  ...  TRAFFIC VIOLATION\n",
              "subject_race                              ...                   \n",
              "asian/pacific islander          0.005392  ...           0.010370\n",
              "black                           0.697255  ...           0.697728\n",
              "hispanic                        0.025748  ...           0.031791\n",
              "other                           0.000542  ...           0.000866\n",
              "unknown                         0.004037  ...           0.009122\n",
              "white                           0.267025  ...           0.250123\n",
              "\n",
              "[6 rows x 10 columns]"
            ]
          },
          "metadata": {},
          "execution_count": 72
        }
      ]
    },
    {
      "cell_type": "code",
      "metadata": {
        "colab": {
          "base_uri": "https://localhost:8080/",
          "height": 266
        },
        "id": "ZPLUDLWYoQf3",
        "outputId": "5befb502-8148-495e-ca10-1cb95dd85160"
      },
      "source": [
        "pd.crosstab(data.subject_race, data.arrest_made, normalize='index')"
      ],
      "execution_count": 37,
      "outputs": [
        {
          "output_type": "execute_result",
          "data": {
            "text/html": [
              "<div>\n",
              "<style scoped>\n",
              "    .dataframe tbody tr th:only-of-type {\n",
              "        vertical-align: middle;\n",
              "    }\n",
              "\n",
              "    .dataframe tbody tr th {\n",
              "        vertical-align: top;\n",
              "    }\n",
              "\n",
              "    .dataframe thead th {\n",
              "        text-align: right;\n",
              "    }\n",
              "</style>\n",
              "<table border=\"1\" class=\"dataframe\">\n",
              "  <thead>\n",
              "    <tr style=\"text-align: right;\">\n",
              "      <th>arrest_made</th>\n",
              "      <th>False</th>\n",
              "      <th>True</th>\n",
              "    </tr>\n",
              "    <tr>\n",
              "      <th>subject_race</th>\n",
              "      <th></th>\n",
              "      <th></th>\n",
              "    </tr>\n",
              "  </thead>\n",
              "  <tbody>\n",
              "    <tr>\n",
              "      <th>asian/pacific islander</th>\n",
              "      <td>0.925125</td>\n",
              "      <td>0.074875</td>\n",
              "    </tr>\n",
              "    <tr>\n",
              "      <th>black</th>\n",
              "      <td>0.801034</td>\n",
              "      <td>0.198966</td>\n",
              "    </tr>\n",
              "    <tr>\n",
              "      <th>hispanic</th>\n",
              "      <td>0.844785</td>\n",
              "      <td>0.155215</td>\n",
              "    </tr>\n",
              "    <tr>\n",
              "      <th>other</th>\n",
              "      <td>0.894737</td>\n",
              "      <td>0.105263</td>\n",
              "    </tr>\n",
              "    <tr>\n",
              "      <th>unknown</th>\n",
              "      <td>0.920971</td>\n",
              "      <td>0.079029</td>\n",
              "    </tr>\n",
              "    <tr>\n",
              "      <th>white</th>\n",
              "      <td>0.835324</td>\n",
              "      <td>0.164676</td>\n",
              "    </tr>\n",
              "  </tbody>\n",
              "</table>\n",
              "</div>"
            ],
            "text/plain": [
              "arrest_made                False     True \n",
              "subject_race                              \n",
              "asian/pacific islander  0.925125  0.074875\n",
              "black                   0.801034  0.198966\n",
              "hispanic                0.844785  0.155215\n",
              "other                   0.894737  0.105263\n",
              "unknown                 0.920971  0.079029\n",
              "white                   0.835324  0.164676"
            ]
          },
          "metadata": {},
          "execution_count": 37
        }
      ]
    },
    {
      "cell_type": "code",
      "metadata": {
        "colab": {
          "base_uri": "https://localhost:8080/"
        },
        "id": "0TGf93Cmow-p",
        "outputId": "de1419dc-b3a8-4d5a-952c-96206d98b85a"
      },
      "source": [
        "data.groupby(['subject_race', 'subject_sex'])['arrest_made'].mean()"
      ],
      "execution_count": 85,
      "outputs": [
        {
          "output_type": "execute_result",
          "data": {
            "text/plain": [
              "subject_race            subject_sex\n",
              "asian/pacific islander  female         0.049738\n",
              "                        male           0.085757\n",
              "black                   female         0.169189\n",
              "                        male           0.211642\n",
              "hispanic                female         0.117513\n",
              "                        male           0.162509\n",
              "other                   female         0.090909\n",
              "                        male           0.110236\n",
              "unknown                 female         0.075356\n",
              "                        male           0.079692\n",
              "white                   female         0.134734\n",
              "                        male           0.176940\n",
              "Name: arrest_made, dtype: float64"
            ]
          },
          "metadata": {},
          "execution_count": 85
        }
      ]
    },
    {
      "cell_type": "code",
      "metadata": {
        "colab": {
          "base_uri": "https://localhost:8080/"
        },
        "id": "SCQ2qRpQo66G",
        "outputId": "f39263b9-a26b-49c5-add2-43cc33b0872e"
      },
      "source": [
        "data.groupby('subjec_sex')['arrest_made'].mean()"
      ],
      "execution_count": 41,
      "outputs": [
        {
          "output_type": "execute_result",
          "data": {
            "text/plain": [
              "subject_sex\n",
              "female    0.158225\n",
              "male      0.199035\n",
              "Name: arrest_made, dtype: float64"
            ]
          },
          "metadata": {},
          "execution_count": 41
        }
      ]
    },
    {
      "cell_type": "code",
      "metadata": {
        "colab": {
          "base_uri": "https://localhost:8080/"
        },
        "id": "3VGaSPi7o_7X",
        "outputId": "36e0bda8-8beb-499b-fae1-2bcc1779e8e2"
      },
      "source": [
        "data[data.search_conducted == True].groupby('subject_race')['contraband_weapons'].sum()/3113"
      ],
      "execution_count": 78,
      "outputs": [
        {
          "output_type": "execute_result",
          "data": {
            "text/plain": [
              "subject_race\n",
              "asian/pacific islander    0.002891\n",
              "black                     0.880822\n",
              "hispanic                  0.012849\n",
              "other                     0.000000\n",
              "unknown                   0.002249\n",
              "white                     0.099904\n",
              "Name: contraband_weapons, dtype: float64"
            ]
          },
          "metadata": {},
          "execution_count": 78
        }
      ]
    },
    {
      "cell_type": "code",
      "metadata": {
        "colab": {
          "base_uri": "https://localhost:8080/"
        },
        "id": "JooeQZ0yplDy",
        "outputId": "0f6744d3-1371-423f-db8b-dea705521c0c"
      },
      "source": [
        "data[data.search_conducted == True].contraband_weapons.sum()"
      ],
      "execution_count": 77,
      "outputs": [
        {
          "output_type": "execute_result",
          "data": {
            "text/plain": [
              "3113"
            ]
          },
          "metadata": {},
          "execution_count": 77
        }
      ]
    },
    {
      "cell_type": "code",
      "metadata": {
        "colab": {
          "base_uri": "https://localhost:8080/"
        },
        "id": "gp7kg1zErbOM",
        "outputId": "1b237a23-d0e0-4c64-ceba-7ab959ce8eb1"
      },
      "source": [
        "data.groupby('district')['vehicle_year'].mean().sort_values()"
      ],
      "execution_count": 69,
      "outputs": [
        {
          "output_type": "execute_result",
          "data": {
            "text/plain": [
              "district\n",
              "5        2003.450792\n",
              "5        2003.520488\n",
              "4        2003.806462\n",
              "3        2003.956794\n",
              "1        2003.957323\n",
              "4        2003.966812\n",
              "7        2003.970504\n",
              "7        2003.998879\n",
              "3        2004.020548\n",
              "8        2004.056494\n",
              "1        2004.142627\n",
              "8        2004.341650\n",
              "2        2004.589421\n",
              "2        2004.607631\n",
              "6        2005.188022\n",
              "6        2005.502055\n",
              "1|7              NaN\n",
              "3|2              NaN\n",
              "5|3|3            NaN\n",
              "6|2              NaN\n",
              "Name: vehicle_year, dtype: float64"
            ]
          },
          "metadata": {},
          "execution_count": 69
        }
      ]
    },
    {
      "cell_type": "code",
      "metadata": {
        "colab": {
          "base_uri": "https://localhost:8080/"
        },
        "id": "rfayq5x0yfl2",
        "outputId": "02feb68e-ace5-442e-ad0d-9c4955f6c155"
      },
      "source": [
        "data[data.district.isin([5,6])].groupby('district').search_conducted.mean()"
      ],
      "execution_count": 86,
      "outputs": [
        {
          "output_type": "execute_result",
          "data": {
            "text/plain": [
              "district\n",
              "5    0.124911\n",
              "6    0.170545\n",
              "Name: search_conducted, dtype: float64"
            ]
          },
          "metadata": {},
          "execution_count": 86
        }
      ]
    },
    {
      "cell_type": "code",
      "metadata": {
        "colab": {
          "base_uri": "https://localhost:8080/"
        },
        "id": "sZzXgjT_yuoG",
        "outputId": "ab3536b0-72c4-455c-a43f-c01d81b44bb2"
      },
      "source": [
        "data[data.district.isin([5,6])].groupby('district').subject_race.value_counts(normalize=True)"
      ],
      "execution_count": 88,
      "outputs": [
        {
          "output_type": "execute_result",
          "data": {
            "text/plain": [
              "district  subject_race          \n",
              "5         black                     0.758880\n",
              "          white                     0.214093\n",
              "          hispanic                  0.018758\n",
              "          unknown                   0.004710\n",
              "          asian/pacific islander    0.003085\n",
              "          other                     0.000473\n",
              "6         black                     0.734431\n",
              "          white                     0.225178\n",
              "          hispanic                  0.024931\n",
              "          unknown                   0.009662\n",
              "          asian/pacific islander    0.005188\n",
              "          other                     0.000609\n",
              "Name: subject_race, dtype: float64"
            ]
          },
          "metadata": {},
          "execution_count": 88
        }
      ]
    },
    {
      "cell_type": "markdown",
      "metadata": {
        "id": "AAAQlsT5zrbE"
      },
      "source": [
        "### Some Geoplotting"
      ]
    },
    {
      "cell_type": "code",
      "metadata": {
        "id": "lCajKJPezLND"
      },
      "source": [
        "import folium\n",
        "m = folium.Map(tiles='Stamen Toner', location=[55.6832933, 12.5169813], zoom_start=16)"
      ],
      "execution_count": 97,
      "outputs": []
    },
    {
      "cell_type": "code",
      "metadata": {
        "colab": {
          "base_uri": "https://localhost:8080/",
          "height": 520
        },
        "id": "9IhUqdwHz1RE",
        "outputId": "3c78580b-6f33-477a-a6db-7b14bc0e0e4e"
      },
      "source": [
        "m"
      ],
      "execution_count": 99,
      "outputs": [
        {
          "output_type": "execute_result",
          "data": {
            "text/html": [
              "<div style=\"width:100%;\"><div style=\"position:relative;width:100%;height:0;padding-bottom:60%;\"><span style=\"color:#565656\">Make this Notebook Trusted to load map: File -> Trust Notebook</span><iframe src=\"about:blank\" style=\"position:absolute;width:100%;height:100%;left:0;top:0;border:none !important;\" data-html=%3C%21DOCTYPE%20html%3E%0A%3Chead%3E%20%20%20%20%0A%20%20%20%20%3Cmeta%20http-equiv%3D%22content-type%22%20content%3D%22text/html%3B%20charset%3DUTF-8%22%20/%3E%0A%20%20%20%20%3Cscript%3EL_PREFER_CANVAS%3Dfalse%3B%20L_NO_TOUCH%3Dfalse%3B%20L_DISABLE_3D%3Dfalse%3B%3C/script%3E%0A%20%20%20%20%3Cscript%20src%3D%22https%3A//cdn.jsdelivr.net/npm/leaflet%401.4.0/dist/leaflet.js%22%3E%3C/script%3E%0A%20%20%20%20%3Cscript%20src%3D%22https%3A//code.jquery.com/jquery-1.12.4.min.js%22%3E%3C/script%3E%0A%20%20%20%20%3Cscript%20src%3D%22https%3A//maxcdn.bootstrapcdn.com/bootstrap/3.2.0/js/bootstrap.min.js%22%3E%3C/script%3E%0A%20%20%20%20%3Cscript%20src%3D%22https%3A//cdnjs.cloudflare.com/ajax/libs/Leaflet.awesome-markers/2.0.2/leaflet.awesome-markers.js%22%3E%3C/script%3E%0A%20%20%20%20%3Clink%20rel%3D%22stylesheet%22%20href%3D%22https%3A//cdn.jsdelivr.net/npm/leaflet%401.4.0/dist/leaflet.css%22/%3E%0A%20%20%20%20%3Clink%20rel%3D%22stylesheet%22%20href%3D%22https%3A//maxcdn.bootstrapcdn.com/bootstrap/3.2.0/css/bootstrap.min.css%22/%3E%0A%20%20%20%20%3Clink%20rel%3D%22stylesheet%22%20href%3D%22https%3A//maxcdn.bootstrapcdn.com/bootstrap/3.2.0/css/bootstrap-theme.min.css%22/%3E%0A%20%20%20%20%3Clink%20rel%3D%22stylesheet%22%20href%3D%22https%3A//maxcdn.bootstrapcdn.com/font-awesome/4.6.3/css/font-awesome.min.css%22/%3E%0A%20%20%20%20%3Clink%20rel%3D%22stylesheet%22%20href%3D%22https%3A//cdnjs.cloudflare.com/ajax/libs/Leaflet.awesome-markers/2.0.2/leaflet.awesome-markers.css%22/%3E%0A%20%20%20%20%3Clink%20rel%3D%22stylesheet%22%20href%3D%22https%3A//rawcdn.githack.com/python-visualization/folium/master/folium/templates/leaflet.awesome.rotate.css%22/%3E%0A%20%20%20%20%3Cstyle%3Ehtml%2C%20body%20%7Bwidth%3A%20100%25%3Bheight%3A%20100%25%3Bmargin%3A%200%3Bpadding%3A%200%3B%7D%3C/style%3E%0A%20%20%20%20%3Cstyle%3E%23map%20%7Bposition%3Aabsolute%3Btop%3A0%3Bbottom%3A0%3Bright%3A0%3Bleft%3A0%3B%7D%3C/style%3E%0A%20%20%20%20%0A%20%20%20%20%3Cmeta%20name%3D%22viewport%22%20content%3D%22width%3Ddevice-width%2C%0A%20%20%20%20%20%20%20%20initial-scale%3D1.0%2C%20maximum-scale%3D1.0%2C%20user-scalable%3Dno%22%20/%3E%0A%20%20%20%20%3Cstyle%3E%23map_314ff41cc3c343959d04eacad773673c%20%7B%0A%20%20%20%20%20%20%20%20position%3A%20relative%3B%0A%20%20%20%20%20%20%20%20width%3A%20100.0%25%3B%0A%20%20%20%20%20%20%20%20height%3A%20100.0%25%3B%0A%20%20%20%20%20%20%20%20left%3A%200.0%25%3B%0A%20%20%20%20%20%20%20%20top%3A%200.0%25%3B%0A%20%20%20%20%20%20%20%20%7D%0A%20%20%20%20%3C/style%3E%0A%3C/head%3E%0A%3Cbody%3E%20%20%20%20%0A%20%20%20%20%0A%20%20%20%20%3Cdiv%20class%3D%22folium-map%22%20id%3D%22map_314ff41cc3c343959d04eacad773673c%22%20%3E%3C/div%3E%0A%3C/body%3E%0A%3Cscript%3E%20%20%20%20%0A%20%20%20%20%0A%20%20%20%20%0A%20%20%20%20%20%20%20%20var%20bounds%20%3D%20null%3B%0A%20%20%20%20%0A%0A%20%20%20%20var%20map_314ff41cc3c343959d04eacad773673c%20%3D%20L.map%28%0A%20%20%20%20%20%20%20%20%27map_314ff41cc3c343959d04eacad773673c%27%2C%20%7B%0A%20%20%20%20%20%20%20%20center%3A%20%5B55.6832933%2C%2012.5169813%5D%2C%0A%20%20%20%20%20%20%20%20zoom%3A%2016%2C%0A%20%20%20%20%20%20%20%20maxBounds%3A%20bounds%2C%0A%20%20%20%20%20%20%20%20layers%3A%20%5B%5D%2C%0A%20%20%20%20%20%20%20%20worldCopyJump%3A%20false%2C%0A%20%20%20%20%20%20%20%20crs%3A%20L.CRS.EPSG3857%2C%0A%20%20%20%20%20%20%20%20zoomControl%3A%20true%2C%0A%20%20%20%20%20%20%20%20%7D%29%3B%0A%0A%0A%20%20%20%20%0A%20%20%20%20var%20tile_layer_b7dc0406c8db4ae993a60814ab335221%20%3D%20L.tileLayer%28%0A%20%20%20%20%20%20%20%20%27https%3A//stamen-tiles-%7Bs%7D.a.ssl.fastly.net/toner/%7Bz%7D/%7Bx%7D/%7By%7D.png%27%2C%0A%20%20%20%20%20%20%20%20%7B%0A%20%20%20%20%20%20%20%20%22attribution%22%3A%20null%2C%0A%20%20%20%20%20%20%20%20%22detectRetina%22%3A%20false%2C%0A%20%20%20%20%20%20%20%20%22maxNativeZoom%22%3A%2018%2C%0A%20%20%20%20%20%20%20%20%22maxZoom%22%3A%2018%2C%0A%20%20%20%20%20%20%20%20%22minZoom%22%3A%200%2C%0A%20%20%20%20%20%20%20%20%22noWrap%22%3A%20false%2C%0A%20%20%20%20%20%20%20%20%22opacity%22%3A%201%2C%0A%20%20%20%20%20%20%20%20%22subdomains%22%3A%20%22abc%22%2C%0A%20%20%20%20%20%20%20%20%22tms%22%3A%20false%0A%7D%29.addTo%28map_314ff41cc3c343959d04eacad773673c%29%3B%0A%3C/script%3E onload=\"this.contentDocument.open();this.contentDocument.write(    decodeURIComponent(this.getAttribute('data-html')));this.contentDocument.close();\" allowfullscreen webkitallowfullscreen mozallowfullscreen></iframe></div></div>"
            ],
            "text/plain": [
              "<folium.folium.Map at 0x7fa902c7e210>"
            ]
          },
          "metadata": {},
          "execution_count": 99
        }
      ]
    },
    {
      "cell_type": "code",
      "metadata": {
        "id": "oSGCNnBL0xO5"
      },
      "source": [
        "# subset data (we need lon/lat)\n",
        "geoplot_data = data.sample(20).dropna(subset=['lat'])"
      ],
      "execution_count": 101,
      "outputs": []
    },
    {
      "cell_type": "code",
      "metadata": {
        "colab": {
          "base_uri": "https://localhost:8080/"
        },
        "id": "b6YV5D4x00tN",
        "outputId": "6473c22a-6471-4af9-9900-6323dbdaa182"
      },
      "source": [
        "print(geoplot_data.lat.mean())\n",
        "print(geoplot_data.lng.mean())"
      ],
      "execution_count": 104,
      "outputs": [
        {
          "output_type": "stream",
          "name": "stdout",
          "text": [
            "29.968287416666666\n",
            "-90.07055595833333\n"
          ]
        }
      ]
    },
    {
      "cell_type": "code",
      "metadata": {
        "colab": {
          "base_uri": "https://localhost:8080/",
          "height": 520
        },
        "id": "vMnWNI0Zz1tX",
        "outputId": "d8899870-168c-4a0d-eb86-dadd5daafa0b"
      },
      "source": [
        "m = folium.Map(location=[30, -90], zoom_start=12)\n",
        "\n",
        "tooltip = \"I'm a police stop\"\n",
        "\n",
        "# iterate over all rows\n",
        "for row in geoplot_data.iterrows():\n",
        "  folium.Marker([row[1].lat, row[1].lng], \n",
        "                popup=f\"<b>{row[1].subject_age}</b> <b>{row[1].subject_race}</b> <b>{row[1].reason_for_stop}</b> <b>{row[1].outcome}</b>\", \n",
        "                tooltip=tooltip).add_to(m)\n",
        "\n",
        "\n",
        "m"
      ],
      "execution_count": 105,
      "outputs": [
        {
          "output_type": "execute_result",
          "data": {
            "text/html": [
              "<div style=\"width:100%;\"><div style=\"position:relative;width:100%;height:0;padding-bottom:60%;\"><span style=\"color:#565656\">Make this Notebook Trusted to load map: File -> Trust Notebook</span><iframe src=\"about:blank\" style=\"position:absolute;width:100%;height:100%;left:0;top:0;border:none !important;\" data-html=%3C%21DOCTYPE%20html%3E%0A%3Chead%3E%20%20%20%20%0A%20%20%20%20%3Cmeta%20http-equiv%3D%22content-type%22%20content%3D%22text/html%3B%20charset%3DUTF-8%22%20/%3E%0A%20%20%20%20%3Cscript%3EL_PREFER_CANVAS%3Dfalse%3B%20L_NO_TOUCH%3Dfalse%3B%20L_DISABLE_3D%3Dfalse%3B%3C/script%3E%0A%20%20%20%20%3Cscript%20src%3D%22https%3A//cdn.jsdelivr.net/npm/leaflet%401.4.0/dist/leaflet.js%22%3E%3C/script%3E%0A%20%20%20%20%3Cscript%20src%3D%22https%3A//code.jquery.com/jquery-1.12.4.min.js%22%3E%3C/script%3E%0A%20%20%20%20%3Cscript%20src%3D%22https%3A//maxcdn.bootstrapcdn.com/bootstrap/3.2.0/js/bootstrap.min.js%22%3E%3C/script%3E%0A%20%20%20%20%3Cscript%20src%3D%22https%3A//cdnjs.cloudflare.com/ajax/libs/Leaflet.awesome-markers/2.0.2/leaflet.awesome-markers.js%22%3E%3C/script%3E%0A%20%20%20%20%3Clink%20rel%3D%22stylesheet%22%20href%3D%22https%3A//cdn.jsdelivr.net/npm/leaflet%401.4.0/dist/leaflet.css%22/%3E%0A%20%20%20%20%3Clink%20rel%3D%22stylesheet%22%20href%3D%22https%3A//maxcdn.bootstrapcdn.com/bootstrap/3.2.0/css/bootstrap.min.css%22/%3E%0A%20%20%20%20%3Clink%20rel%3D%22stylesheet%22%20href%3D%22https%3A//maxcdn.bootstrapcdn.com/bootstrap/3.2.0/css/bootstrap-theme.min.css%22/%3E%0A%20%20%20%20%3Clink%20rel%3D%22stylesheet%22%20href%3D%22https%3A//maxcdn.bootstrapcdn.com/font-awesome/4.6.3/css/font-awesome.min.css%22/%3E%0A%20%20%20%20%3Clink%20rel%3D%22stylesheet%22%20href%3D%22https%3A//cdnjs.cloudflare.com/ajax/libs/Leaflet.awesome-markers/2.0.2/leaflet.awesome-markers.css%22/%3E%0A%20%20%20%20%3Clink%20rel%3D%22stylesheet%22%20href%3D%22https%3A//rawcdn.githack.com/python-visualization/folium/master/folium/templates/leaflet.awesome.rotate.css%22/%3E%0A%20%20%20%20%3Cstyle%3Ehtml%2C%20body%20%7Bwidth%3A%20100%25%3Bheight%3A%20100%25%3Bmargin%3A%200%3Bpadding%3A%200%3B%7D%3C/style%3E%0A%20%20%20%20%3Cstyle%3E%23map%20%7Bposition%3Aabsolute%3Btop%3A0%3Bbottom%3A0%3Bright%3A0%3Bleft%3A0%3B%7D%3C/style%3E%0A%20%20%20%20%0A%20%20%20%20%3Cmeta%20name%3D%22viewport%22%20content%3D%22width%3Ddevice-width%2C%0A%20%20%20%20%20%20%20%20initial-scale%3D1.0%2C%20maximum-scale%3D1.0%2C%20user-scalable%3Dno%22%20/%3E%0A%20%20%20%20%3Cstyle%3E%23map_0024b2bb8ba849f585e260b7462c8804%20%7B%0A%20%20%20%20%20%20%20%20position%3A%20relative%3B%0A%20%20%20%20%20%20%20%20width%3A%20100.0%25%3B%0A%20%20%20%20%20%20%20%20height%3A%20100.0%25%3B%0A%20%20%20%20%20%20%20%20left%3A%200.0%25%3B%0A%20%20%20%20%20%20%20%20top%3A%200.0%25%3B%0A%20%20%20%20%20%20%20%20%7D%0A%20%20%20%20%3C/style%3E%0A%3C/head%3E%0A%3Cbody%3E%20%20%20%20%0A%20%20%20%20%0A%20%20%20%20%3Cdiv%20class%3D%22folium-map%22%20id%3D%22map_0024b2bb8ba849f585e260b7462c8804%22%20%3E%3C/div%3E%0A%3C/body%3E%0A%3Cscript%3E%20%20%20%20%0A%20%20%20%20%0A%20%20%20%20%0A%20%20%20%20%20%20%20%20var%20bounds%20%3D%20null%3B%0A%20%20%20%20%0A%0A%20%20%20%20var%20map_0024b2bb8ba849f585e260b7462c8804%20%3D%20L.map%28%0A%20%20%20%20%20%20%20%20%27map_0024b2bb8ba849f585e260b7462c8804%27%2C%20%7B%0A%20%20%20%20%20%20%20%20center%3A%20%5B30%2C%20-90%5D%2C%0A%20%20%20%20%20%20%20%20zoom%3A%2012%2C%0A%20%20%20%20%20%20%20%20maxBounds%3A%20bounds%2C%0A%20%20%20%20%20%20%20%20layers%3A%20%5B%5D%2C%0A%20%20%20%20%20%20%20%20worldCopyJump%3A%20false%2C%0A%20%20%20%20%20%20%20%20crs%3A%20L.CRS.EPSG3857%2C%0A%20%20%20%20%20%20%20%20zoomControl%3A%20true%2C%0A%20%20%20%20%20%20%20%20%7D%29%3B%0A%0A%0A%20%20%20%20%0A%20%20%20%20var%20tile_layer_7695037468674d5292f8fa99c151b533%20%3D%20L.tileLayer%28%0A%20%20%20%20%20%20%20%20%27https%3A//%7Bs%7D.tile.openstreetmap.org/%7Bz%7D/%7Bx%7D/%7By%7D.png%27%2C%0A%20%20%20%20%20%20%20%20%7B%0A%20%20%20%20%20%20%20%20%22attribution%22%3A%20null%2C%0A%20%20%20%20%20%20%20%20%22detectRetina%22%3A%20false%2C%0A%20%20%20%20%20%20%20%20%22maxNativeZoom%22%3A%2018%2C%0A%20%20%20%20%20%20%20%20%22maxZoom%22%3A%2018%2C%0A%20%20%20%20%20%20%20%20%22minZoom%22%3A%200%2C%0A%20%20%20%20%20%20%20%20%22noWrap%22%3A%20false%2C%0A%20%20%20%20%20%20%20%20%22opacity%22%3A%201%2C%0A%20%20%20%20%20%20%20%20%22subdomains%22%3A%20%22abc%22%2C%0A%20%20%20%20%20%20%20%20%22tms%22%3A%20false%0A%7D%29.addTo%28map_0024b2bb8ba849f585e260b7462c8804%29%3B%0A%20%20%20%20%0A%20%20%20%20%20%20%20%20var%20marker_3861006b646a4bba9b689bb7bdcc9d8c%20%3D%20L.marker%28%0A%20%20%20%20%20%20%20%20%20%20%20%20%5B29.9562737%2C%20-90.06774300000002%5D%2C%0A%20%20%20%20%20%20%20%20%20%20%20%20%7B%0A%20%20%20%20%20%20%20%20%20%20%20%20%20%20%20%20icon%3A%20new%20L.Icon.Default%28%29%2C%0A%20%20%20%20%20%20%20%20%20%20%20%20%20%20%20%20%7D%0A%20%20%20%20%20%20%20%20%20%20%20%20%29.addTo%28map_0024b2bb8ba849f585e260b7462c8804%29%3B%0A%20%20%20%20%20%20%20%20%0A%20%20%20%20%0A%20%20%20%20%20%20%20%20%20%20%20%20var%20popup_5752d6c05511474da527a7f163de1b97%20%3D%20L.popup%28%7BmaxWidth%3A%20%27100%25%27%0A%20%20%20%20%20%20%20%20%20%20%20%20%0A%20%20%20%20%20%20%20%20%20%20%20%20%7D%29%3B%0A%0A%20%20%20%20%20%20%20%20%20%20%20%20%0A%20%20%20%20%20%20%20%20%20%20%20%20%20%20%20%20var%20html_840eab4c0885490f8c9f6317254fd8a9%20%3D%20%24%28%60%3Cdiv%20id%3D%22html_840eab4c0885490f8c9f6317254fd8a9%22%20style%3D%22width%3A%20100.0%25%3B%20height%3A%20100.0%25%3B%22%3E%3Cb%3E50.0%3C/b%3E%20%3Cb%3Ewhite%3C/b%3E%20%3Cb%3ESUSPECT%20PERSON%3C/b%3E%20%3Cb%3Enan%3C/b%3E%3C/div%3E%60%29%5B0%5D%3B%0A%20%20%20%20%20%20%20%20%20%20%20%20%20%20%20%20popup_5752d6c05511474da527a7f163de1b97.setContent%28html_840eab4c0885490f8c9f6317254fd8a9%29%3B%0A%20%20%20%20%20%20%20%20%20%20%20%20%0A%0A%20%20%20%20%20%20%20%20%20%20%20%20marker_3861006b646a4bba9b689bb7bdcc9d8c.bindPopup%28popup_5752d6c05511474da527a7f163de1b97%29%0A%20%20%20%20%20%20%20%20%20%20%20%20%3B%0A%0A%20%20%20%20%20%20%20%20%20%20%20%20%0A%20%20%20%20%20%20%20%20%0A%20%20%20%20%0A%20%20%20%20%20%20%20%20marker_3861006b646a4bba9b689bb7bdcc9d8c.bindTooltip%28%0A%20%20%20%20%20%20%20%20%20%20%20%20%60%3Cdiv%3E%60%0A%20%20%20%20%20%20%20%20%20%20%20%20%2B%20%60I%27m%20a%20police%20stop%60%20%2B%20%60%3C/div%3E%60%2C%0A%20%20%20%20%20%20%20%20%20%20%20%20%7B%22sticky%22%3A%20true%7D%0A%20%20%20%20%20%20%20%20%29%3B%0A%20%20%20%20%20%20%20%20%0A%20%20%20%20%0A%20%20%20%20%20%20%20%20var%20marker_95012a395cf3417aafda44bf00a1e24a%20%3D%20L.marker%28%0A%20%20%20%20%20%20%20%20%20%20%20%20%5B29.9324672%2C%20-90.073017%5D%2C%0A%20%20%20%20%20%20%20%20%20%20%20%20%7B%0A%20%20%20%20%20%20%20%20%20%20%20%20%20%20%20%20icon%3A%20new%20L.Icon.Default%28%29%2C%0A%20%20%20%20%20%20%20%20%20%20%20%20%20%20%20%20%7D%0A%20%20%20%20%20%20%20%20%20%20%20%20%29.addTo%28map_0024b2bb8ba849f585e260b7462c8804%29%3B%0A%20%20%20%20%20%20%20%20%0A%20%20%20%20%0A%20%20%20%20%20%20%20%20%20%20%20%20var%20popup_2e32f7b6bbfe4dc0b42ace0b2de6d4de%20%3D%20L.popup%28%7BmaxWidth%3A%20%27100%25%27%0A%20%20%20%20%20%20%20%20%20%20%20%20%0A%20%20%20%20%20%20%20%20%20%20%20%20%7D%29%3B%0A%0A%20%20%20%20%20%20%20%20%20%20%20%20%0A%20%20%20%20%20%20%20%20%20%20%20%20%20%20%20%20var%20html_c1aa079eef494780b27a2d8157e426aa%20%3D%20%24%28%60%3Cdiv%20id%3D%22html_c1aa079eef494780b27a2d8157e426aa%22%20style%3D%22width%3A%20100.0%25%3B%20height%3A%20100.0%25%3B%22%3E%3Cb%3E51.0%3C/b%3E%20%3Cb%3Ehispanic%3C/b%3E%20%3Cb%3ECALL%20FOR%20SERVICE%3C/b%3E%20%3Cb%3Ewarning%3C/b%3E%3C/div%3E%60%29%5B0%5D%3B%0A%20%20%20%20%20%20%20%20%20%20%20%20%20%20%20%20popup_2e32f7b6bbfe4dc0b42ace0b2de6d4de.setContent%28html_c1aa079eef494780b27a2d8157e426aa%29%3B%0A%20%20%20%20%20%20%20%20%20%20%20%20%0A%0A%20%20%20%20%20%20%20%20%20%20%20%20marker_95012a395cf3417aafda44bf00a1e24a.bindPopup%28popup_2e32f7b6bbfe4dc0b42ace0b2de6d4de%29%0A%20%20%20%20%20%20%20%20%20%20%20%20%3B%0A%0A%20%20%20%20%20%20%20%20%20%20%20%20%0A%20%20%20%20%20%20%20%20%0A%20%20%20%20%0A%20%20%20%20%20%20%20%20marker_95012a395cf3417aafda44bf00a1e24a.bindTooltip%28%0A%20%20%20%20%20%20%20%20%20%20%20%20%60%3Cdiv%3E%60%0A%20%20%20%20%20%20%20%20%20%20%20%20%2B%20%60I%27m%20a%20police%20stop%60%20%2B%20%60%3C/div%3E%60%2C%0A%20%20%20%20%20%20%20%20%20%20%20%20%7B%22sticky%22%3A%20true%7D%0A%20%20%20%20%20%20%20%20%29%3B%0A%20%20%20%20%20%20%20%20%0A%20%20%20%20%0A%20%20%20%20%20%20%20%20var%20marker_fcb9dd1915b24b2588bd0d5276c7c9eb%20%3D%20L.marker%28%0A%20%20%20%20%20%20%20%20%20%20%20%20%5B29.99473489999999%2C%20-90.0783594%5D%2C%0A%20%20%20%20%20%20%20%20%20%20%20%20%7B%0A%20%20%20%20%20%20%20%20%20%20%20%20%20%20%20%20icon%3A%20new%20L.Icon.Default%28%29%2C%0A%20%20%20%20%20%20%20%20%20%20%20%20%20%20%20%20%7D%0A%20%20%20%20%20%20%20%20%20%20%20%20%29.addTo%28map_0024b2bb8ba849f585e260b7462c8804%29%3B%0A%20%20%20%20%20%20%20%20%0A%20%20%20%20%0A%20%20%20%20%20%20%20%20%20%20%20%20var%20popup_a58e20bd3c6345a7acb985b933291f58%20%3D%20L.popup%28%7BmaxWidth%3A%20%27100%25%27%0A%20%20%20%20%20%20%20%20%20%20%20%20%0A%20%20%20%20%20%20%20%20%20%20%20%20%7D%29%3B%0A%0A%20%20%20%20%20%20%20%20%20%20%20%20%0A%20%20%20%20%20%20%20%20%20%20%20%20%20%20%20%20var%20html_605f9c2c25934513b6ebfb16d1571d8b%20%3D%20%24%28%60%3Cdiv%20id%3D%22html_605f9c2c25934513b6ebfb16d1571d8b%22%20style%3D%22width%3A%20100.0%25%3B%20height%3A%20100.0%25%3B%22%3E%3Cb%3E38.0%3C/b%3E%20%3Cb%3Eblack%3C/b%3E%20%3Cb%3ETRAFFIC%20VIOLATION%3C/b%3E%20%3Cb%3Ewarning%3C/b%3E%3C/div%3E%60%29%5B0%5D%3B%0A%20%20%20%20%20%20%20%20%20%20%20%20%20%20%20%20popup_a58e20bd3c6345a7acb985b933291f58.setContent%28html_605f9c2c25934513b6ebfb16d1571d8b%29%3B%0A%20%20%20%20%20%20%20%20%20%20%20%20%0A%0A%20%20%20%20%20%20%20%20%20%20%20%20marker_fcb9dd1915b24b2588bd0d5276c7c9eb.bindPopup%28popup_a58e20bd3c6345a7acb985b933291f58%29%0A%20%20%20%20%20%20%20%20%20%20%20%20%3B%0A%0A%20%20%20%20%20%20%20%20%20%20%20%20%0A%20%20%20%20%20%20%20%20%0A%20%20%20%20%0A%20%20%20%20%20%20%20%20marker_fcb9dd1915b24b2588bd0d5276c7c9eb.bindTooltip%28%0A%20%20%20%20%20%20%20%20%20%20%20%20%60%3Cdiv%3E%60%0A%20%20%20%20%20%20%20%20%20%20%20%20%2B%20%60I%27m%20a%20police%20stop%60%20%2B%20%60%3C/div%3E%60%2C%0A%20%20%20%20%20%20%20%20%20%20%20%20%7B%22sticky%22%3A%20true%7D%0A%20%20%20%20%20%20%20%20%29%3B%0A%20%20%20%20%20%20%20%20%0A%20%20%20%20%0A%20%20%20%20%20%20%20%20var%20marker_3fddbe9ad3cd46568c1554454365c5b6%20%3D%20L.marker%28%0A%20%20%20%20%20%20%20%20%20%20%20%20%5B29.9328577%2C%20-90.0935707%5D%2C%0A%20%20%20%20%20%20%20%20%20%20%20%20%7B%0A%20%20%20%20%20%20%20%20%20%20%20%20%20%20%20%20icon%3A%20new%20L.Icon.Default%28%29%2C%0A%20%20%20%20%20%20%20%20%20%20%20%20%20%20%20%20%7D%0A%20%20%20%20%20%20%20%20%20%20%20%20%29.addTo%28map_0024b2bb8ba849f585e260b7462c8804%29%3B%0A%20%20%20%20%20%20%20%20%0A%20%20%20%20%0A%20%20%20%20%20%20%20%20%20%20%20%20var%20popup_016f0f5b0a034847a4e85cf4cb638230%20%3D%20L.popup%28%7BmaxWidth%3A%20%27100%25%27%0A%20%20%20%20%20%20%20%20%20%20%20%20%0A%20%20%20%20%20%20%20%20%20%20%20%20%7D%29%3B%0A%0A%20%20%20%20%20%20%20%20%20%20%20%20%0A%20%20%20%20%20%20%20%20%20%20%20%20%20%20%20%20var%20html_1ff2b6be19914a2d86db62971335090c%20%3D%20%24%28%60%3Cdiv%20id%3D%22html_1ff2b6be19914a2d86db62971335090c%22%20style%3D%22width%3A%20100.0%25%3B%20height%3A%20100.0%25%3B%22%3E%3Cb%3E23.0%3C/b%3E%20%3Cb%3Eblack%3C/b%3E%20%3Cb%3ETRAFFIC%20VIOLATION%3C/b%3E%20%3Cb%3Ecitation%3C/b%3E%3C/div%3E%60%29%5B0%5D%3B%0A%20%20%20%20%20%20%20%20%20%20%20%20%20%20%20%20popup_016f0f5b0a034847a4e85cf4cb638230.setContent%28html_1ff2b6be19914a2d86db62971335090c%29%3B%0A%20%20%20%20%20%20%20%20%20%20%20%20%0A%0A%20%20%20%20%20%20%20%20%20%20%20%20marker_3fddbe9ad3cd46568c1554454365c5b6.bindPopup%28popup_016f0f5b0a034847a4e85cf4cb638230%29%0A%20%20%20%20%20%20%20%20%20%20%20%20%3B%0A%0A%20%20%20%20%20%20%20%20%20%20%20%20%0A%20%20%20%20%20%20%20%20%0A%20%20%20%20%0A%20%20%20%20%20%20%20%20marker_3fddbe9ad3cd46568c1554454365c5b6.bindTooltip%28%0A%20%20%20%20%20%20%20%20%20%20%20%20%60%3Cdiv%3E%60%0A%20%20%20%20%20%20%20%20%20%20%20%20%2B%20%60I%27m%20a%20police%20stop%60%20%2B%20%60%3C/div%3E%60%2C%0A%20%20%20%20%20%20%20%20%20%20%20%20%7B%22sticky%22%3A%20true%7D%0A%20%20%20%20%20%20%20%20%29%3B%0A%20%20%20%20%20%20%20%20%0A%20%20%20%20%0A%20%20%20%20%20%20%20%20var%20marker_a875c2ac633947d9bf7137f10e4d3c05%20%3D%20L.marker%28%0A%20%20%20%20%20%20%20%20%20%20%20%20%5B29.9617619%2C%20-90.1160513%5D%2C%0A%20%20%20%20%20%20%20%20%20%20%20%20%7B%0A%20%20%20%20%20%20%20%20%20%20%20%20%20%20%20%20icon%3A%20new%20L.Icon.Default%28%29%2C%0A%20%20%20%20%20%20%20%20%20%20%20%20%20%20%20%20%7D%0A%20%20%20%20%20%20%20%20%20%20%20%20%29.addTo%28map_0024b2bb8ba849f585e260b7462c8804%29%3B%0A%20%20%20%20%20%20%20%20%0A%20%20%20%20%0A%20%20%20%20%20%20%20%20%20%20%20%20var%20popup_ed754f388a314b7f9a27ad0ea5a9ed53%20%3D%20L.popup%28%7BmaxWidth%3A%20%27100%25%27%0A%20%20%20%20%20%20%20%20%20%20%20%20%0A%20%20%20%20%20%20%20%20%20%20%20%20%7D%29%3B%0A%0A%20%20%20%20%20%20%20%20%20%20%20%20%0A%20%20%20%20%20%20%20%20%20%20%20%20%20%20%20%20var%20html_2ae4e34d161f40cb8307aa6cbc4c80f8%20%3D%20%24%28%60%3Cdiv%20id%3D%22html_2ae4e34d161f40cb8307aa6cbc4c80f8%22%20style%3D%22width%3A%20100.0%25%3B%20height%3A%20100.0%25%3B%22%3E%3Cb%3E40.0%3C/b%3E%20%3Cb%3Eblack%3C/b%3E%20%3Cb%3ESUSPECT%20VEHICLE%3C/b%3E%20%3Cb%3Enan%3C/b%3E%3C/div%3E%60%29%5B0%5D%3B%0A%20%20%20%20%20%20%20%20%20%20%20%20%20%20%20%20popup_ed754f388a314b7f9a27ad0ea5a9ed53.setContent%28html_2ae4e34d161f40cb8307aa6cbc4c80f8%29%3B%0A%20%20%20%20%20%20%20%20%20%20%20%20%0A%0A%20%20%20%20%20%20%20%20%20%20%20%20marker_a875c2ac633947d9bf7137f10e4d3c05.bindPopup%28popup_ed754f388a314b7f9a27ad0ea5a9ed53%29%0A%20%20%20%20%20%20%20%20%20%20%20%20%3B%0A%0A%20%20%20%20%20%20%20%20%20%20%20%20%0A%20%20%20%20%20%20%20%20%0A%20%20%20%20%0A%20%20%20%20%20%20%20%20marker_a875c2ac633947d9bf7137f10e4d3c05.bindTooltip%28%0A%20%20%20%20%20%20%20%20%20%20%20%20%60%3Cdiv%3E%60%0A%20%20%20%20%20%20%20%20%20%20%20%20%2B%20%60I%27m%20a%20police%20stop%60%20%2B%20%60%3C/div%3E%60%2C%0A%20%20%20%20%20%20%20%20%20%20%20%20%7B%22sticky%22%3A%20true%7D%0A%20%20%20%20%20%20%20%20%29%3B%0A%20%20%20%20%20%20%20%20%0A%20%20%20%20%0A%20%20%20%20%20%20%20%20var%20marker_f71699ac326e40ebb443b74c40ac4d90%20%3D%20L.marker%28%0A%20%20%20%20%20%20%20%20%20%20%20%20%5B29.9372517%2C%20-90.0851639%5D%2C%0A%20%20%20%20%20%20%20%20%20%20%20%20%7B%0A%20%20%20%20%20%20%20%20%20%20%20%20%20%20%20%20icon%3A%20new%20L.Icon.Default%28%29%2C%0A%20%20%20%20%20%20%20%20%20%20%20%20%20%20%20%20%7D%0A%20%20%20%20%20%20%20%20%20%20%20%20%29.addTo%28map_0024b2bb8ba849f585e260b7462c8804%29%3B%0A%20%20%20%20%20%20%20%20%0A%20%20%20%20%0A%20%20%20%20%20%20%20%20%20%20%20%20var%20popup_2cda19b12bfb4bf1b843089375c425b5%20%3D%20L.popup%28%7BmaxWidth%3A%20%27100%25%27%0A%20%20%20%20%20%20%20%20%20%20%20%20%0A%20%20%20%20%20%20%20%20%20%20%20%20%7D%29%3B%0A%0A%20%20%20%20%20%20%20%20%20%20%20%20%0A%20%20%20%20%20%20%20%20%20%20%20%20%20%20%20%20var%20html_1b5255f82d9f452996787d28d2af7a35%20%3D%20%24%28%60%3Cdiv%20id%3D%22html_1b5255f82d9f452996787d28d2af7a35%22%20style%3D%22width%3A%20100.0%25%3B%20height%3A%20100.0%25%3B%22%3E%3Cb%3E31.0%3C/b%3E%20%3Cb%3Eblack%3C/b%3E%20%3Cb%3ECALL%20FOR%20SERVICE%3C/b%3E%20%3Cb%3Enan%3C/b%3E%3C/div%3E%60%29%5B0%5D%3B%0A%20%20%20%20%20%20%20%20%20%20%20%20%20%20%20%20popup_2cda19b12bfb4bf1b843089375c425b5.setContent%28html_1b5255f82d9f452996787d28d2af7a35%29%3B%0A%20%20%20%20%20%20%20%20%20%20%20%20%0A%0A%20%20%20%20%20%20%20%20%20%20%20%20marker_f71699ac326e40ebb443b74c40ac4d90.bindPopup%28popup_2cda19b12bfb4bf1b843089375c425b5%29%0A%20%20%20%20%20%20%20%20%20%20%20%20%3B%0A%0A%20%20%20%20%20%20%20%20%20%20%20%20%0A%20%20%20%20%20%20%20%20%0A%20%20%20%20%0A%20%20%20%20%20%20%20%20marker_f71699ac326e40ebb443b74c40ac4d90.bindTooltip%28%0A%20%20%20%20%20%20%20%20%20%20%20%20%60%3Cdiv%3E%60%0A%20%20%20%20%20%20%20%20%20%20%20%20%2B%20%60I%27m%20a%20police%20stop%60%20%2B%20%60%3C/div%3E%60%2C%0A%20%20%20%20%20%20%20%20%20%20%20%20%7B%22sticky%22%3A%20true%7D%0A%20%20%20%20%20%20%20%20%29%3B%0A%20%20%20%20%20%20%20%20%0A%20%20%20%20%0A%20%20%20%20%20%20%20%20var%20marker_3557678b2545428691f8ac1451f05130%20%3D%20L.marker%28%0A%20%20%20%20%20%20%20%20%20%20%20%20%5B29.9909157%2C%20-90.057285%5D%2C%0A%20%20%20%20%20%20%20%20%20%20%20%20%7B%0A%20%20%20%20%20%20%20%20%20%20%20%20%20%20%20%20icon%3A%20new%20L.Icon.Default%28%29%2C%0A%20%20%20%20%20%20%20%20%20%20%20%20%20%20%20%20%7D%0A%20%20%20%20%20%20%20%20%20%20%20%20%29.addTo%28map_0024b2bb8ba849f585e260b7462c8804%29%3B%0A%20%20%20%20%20%20%20%20%0A%20%20%20%20%0A%20%20%20%20%20%20%20%20%20%20%20%20var%20popup_5ac8a7c09216490fa2fdd496394586c9%20%3D%20L.popup%28%7BmaxWidth%3A%20%27100%25%27%0A%20%20%20%20%20%20%20%20%20%20%20%20%0A%20%20%20%20%20%20%20%20%20%20%20%20%7D%29%3B%0A%0A%20%20%20%20%20%20%20%20%20%20%20%20%0A%20%20%20%20%20%20%20%20%20%20%20%20%20%20%20%20var%20html_badc8a045cba45d494c27daea1b53e77%20%3D%20%24%28%60%3Cdiv%20id%3D%22html_badc8a045cba45d494c27daea1b53e77%22%20style%3D%22width%3A%20100.0%25%3B%20height%3A%20100.0%25%3B%22%3E%3Cb%3E21.0%3C/b%3E%20%3Cb%3Eblack%3C/b%3E%20%3Cb%3ETRAFFIC%20VIOLATION%3C/b%3E%20%3Cb%3Earrest%3C/b%3E%3C/div%3E%60%29%5B0%5D%3B%0A%20%20%20%20%20%20%20%20%20%20%20%20%20%20%20%20popup_5ac8a7c09216490fa2fdd496394586c9.setContent%28html_badc8a045cba45d494c27daea1b53e77%29%3B%0A%20%20%20%20%20%20%20%20%20%20%20%20%0A%0A%20%20%20%20%20%20%20%20%20%20%20%20marker_3557678b2545428691f8ac1451f05130.bindPopup%28popup_5ac8a7c09216490fa2fdd496394586c9%29%0A%20%20%20%20%20%20%20%20%20%20%20%20%3B%0A%0A%20%20%20%20%20%20%20%20%20%20%20%20%0A%20%20%20%20%20%20%20%20%0A%20%20%20%20%0A%20%20%20%20%20%20%20%20marker_3557678b2545428691f8ac1451f05130.bindTooltip%28%0A%20%20%20%20%20%20%20%20%20%20%20%20%60%3Cdiv%3E%60%0A%20%20%20%20%20%20%20%20%20%20%20%20%2B%20%60I%27m%20a%20police%20stop%60%20%2B%20%60%3C/div%3E%60%2C%0A%20%20%20%20%20%20%20%20%20%20%20%20%7B%22sticky%22%3A%20true%7D%0A%20%20%20%20%20%20%20%20%29%3B%0A%20%20%20%20%20%20%20%20%0A%20%20%20%20%0A%20%20%20%20%20%20%20%20var%20marker_0a53abfe59074c908fcce8f84c3d3b2b%20%3D%20L.marker%28%0A%20%20%20%20%20%20%20%20%20%20%20%20%5B30.0010311%2C%20-90.1086516%5D%2C%0A%20%20%20%20%20%20%20%20%20%20%20%20%7B%0A%20%20%20%20%20%20%20%20%20%20%20%20%20%20%20%20icon%3A%20new%20L.Icon.Default%28%29%2C%0A%20%20%20%20%20%20%20%20%20%20%20%20%20%20%20%20%7D%0A%20%20%20%20%20%20%20%20%20%20%20%20%29.addTo%28map_0024b2bb8ba849f585e260b7462c8804%29%3B%0A%20%20%20%20%20%20%20%20%0A%20%20%20%20%0A%20%20%20%20%20%20%20%20%20%20%20%20var%20popup_1aa7d9372381452e8475c31822350939%20%3D%20L.popup%28%7BmaxWidth%3A%20%27100%25%27%0A%20%20%20%20%20%20%20%20%20%20%20%20%0A%20%20%20%20%20%20%20%20%20%20%20%20%7D%29%3B%0A%0A%20%20%20%20%20%20%20%20%20%20%20%20%0A%20%20%20%20%20%20%20%20%20%20%20%20%20%20%20%20var%20html_f30efb4b9d5140d79aef6559ae39fa62%20%3D%20%24%28%60%3Cdiv%20id%3D%22html_f30efb4b9d5140d79aef6559ae39fa62%22%20style%3D%22width%3A%20100.0%25%3B%20height%3A%20100.0%25%3B%22%3E%3Cb%3E23.0%3C/b%3E%20%3Cb%3Ewhite%3C/b%3E%20%3Cb%3ETRAFFIC%20VIOLATION%3C/b%3E%20%3Cb%3Ewarning%3C/b%3E%3C/div%3E%60%29%5B0%5D%3B%0A%20%20%20%20%20%20%20%20%20%20%20%20%20%20%20%20popup_1aa7d9372381452e8475c31822350939.setContent%28html_f30efb4b9d5140d79aef6559ae39fa62%29%3B%0A%20%20%20%20%20%20%20%20%20%20%20%20%0A%0A%20%20%20%20%20%20%20%20%20%20%20%20marker_0a53abfe59074c908fcce8f84c3d3b2b.bindPopup%28popup_1aa7d9372381452e8475c31822350939%29%0A%20%20%20%20%20%20%20%20%20%20%20%20%3B%0A%0A%20%20%20%20%20%20%20%20%20%20%20%20%0A%20%20%20%20%20%20%20%20%0A%20%20%20%20%0A%20%20%20%20%20%20%20%20marker_0a53abfe59074c908fcce8f84c3d3b2b.bindTooltip%28%0A%20%20%20%20%20%20%20%20%20%20%20%20%60%3Cdiv%3E%60%0A%20%20%20%20%20%20%20%20%20%20%20%20%2B%20%60I%27m%20a%20police%20stop%60%20%2B%20%60%3C/div%3E%60%2C%0A%20%20%20%20%20%20%20%20%20%20%20%20%7B%22sticky%22%3A%20true%7D%0A%20%20%20%20%20%20%20%20%29%3B%0A%20%20%20%20%20%20%20%20%0A%20%20%20%20%0A%20%20%20%20%20%20%20%20var%20marker_c9b8af6b469e4be89e298633ebae01df%20%3D%20L.marker%28%0A%20%20%20%20%20%20%20%20%20%20%20%20%5B29.93098329999999%2C%20-90.0746593%5D%2C%0A%20%20%20%20%20%20%20%20%20%20%20%20%7B%0A%20%20%20%20%20%20%20%20%20%20%20%20%20%20%20%20icon%3A%20new%20L.Icon.Default%28%29%2C%0A%20%20%20%20%20%20%20%20%20%20%20%20%20%20%20%20%7D%0A%20%20%20%20%20%20%20%20%20%20%20%20%29.addTo%28map_0024b2bb8ba849f585e260b7462c8804%29%3B%0A%20%20%20%20%20%20%20%20%0A%20%20%20%20%0A%20%20%20%20%20%20%20%20%20%20%20%20var%20popup_05748d99901e45c1bb85c93abedb9ceb%20%3D%20L.popup%28%7BmaxWidth%3A%20%27100%25%27%0A%20%20%20%20%20%20%20%20%20%20%20%20%0A%20%20%20%20%20%20%20%20%20%20%20%20%7D%29%3B%0A%0A%20%20%20%20%20%20%20%20%20%20%20%20%0A%20%20%20%20%20%20%20%20%20%20%20%20%20%20%20%20var%20html_326b21d864f8494caf5b4f99920f9a0c%20%3D%20%24%28%60%3Cdiv%20id%3D%22html_326b21d864f8494caf5b4f99920f9a0c%22%20style%3D%22width%3A%20100.0%25%3B%20height%3A%20100.0%25%3B%22%3E%3Cb%3E30.0%3C/b%3E%20%3Cb%3Eblack%3C/b%3E%20%3Cb%3ETRAFFIC%20VIOLATION%3C/b%3E%20%3Cb%3Ecitation%3C/b%3E%3C/div%3E%60%29%5B0%5D%3B%0A%20%20%20%20%20%20%20%20%20%20%20%20%20%20%20%20popup_05748d99901e45c1bb85c93abedb9ceb.setContent%28html_326b21d864f8494caf5b4f99920f9a0c%29%3B%0A%20%20%20%20%20%20%20%20%20%20%20%20%0A%0A%20%20%20%20%20%20%20%20%20%20%20%20marker_c9b8af6b469e4be89e298633ebae01df.bindPopup%28popup_05748d99901e45c1bb85c93abedb9ceb%29%0A%20%20%20%20%20%20%20%20%20%20%20%20%3B%0A%0A%20%20%20%20%20%20%20%20%20%20%20%20%0A%20%20%20%20%20%20%20%20%0A%20%20%20%20%0A%20%20%20%20%20%20%20%20marker_c9b8af6b469e4be89e298633ebae01df.bindTooltip%28%0A%20%20%20%20%20%20%20%20%20%20%20%20%60%3Cdiv%3E%60%0A%20%20%20%20%20%20%20%20%20%20%20%20%2B%20%60I%27m%20a%20police%20stop%60%20%2B%20%60%3C/div%3E%60%2C%0A%20%20%20%20%20%20%20%20%20%20%20%20%7B%22sticky%22%3A%20true%7D%0A%20%20%20%20%20%20%20%20%29%3B%0A%20%20%20%20%20%20%20%20%0A%20%20%20%20%0A%20%20%20%20%20%20%20%20var%20marker_28077a44d33b49bbbc3d3371db39349f%20%3D%20L.marker%28%0A%20%20%20%20%20%20%20%20%20%20%20%20%5B29.9762712%2C%20-90.06686459999997%5D%2C%0A%20%20%20%20%20%20%20%20%20%20%20%20%7B%0A%20%20%20%20%20%20%20%20%20%20%20%20%20%20%20%20icon%3A%20new%20L.Icon.Default%28%29%2C%0A%20%20%20%20%20%20%20%20%20%20%20%20%20%20%20%20%7D%0A%20%20%20%20%20%20%20%20%20%20%20%20%29.addTo%28map_0024b2bb8ba849f585e260b7462c8804%29%3B%0A%20%20%20%20%20%20%20%20%0A%20%20%20%20%0A%20%20%20%20%20%20%20%20%20%20%20%20var%20popup_e70e29ffe59e4b5b804a5398e5fdb67b%20%3D%20L.popup%28%7BmaxWidth%3A%20%27100%25%27%0A%20%20%20%20%20%20%20%20%20%20%20%20%0A%20%20%20%20%20%20%20%20%20%20%20%20%7D%29%3B%0A%0A%20%20%20%20%20%20%20%20%20%20%20%20%0A%20%20%20%20%20%20%20%20%20%20%20%20%20%20%20%20var%20html_44ba7d679472457eb295be3fb4911267%20%3D%20%24%28%60%3Cdiv%20id%3D%22html_44ba7d679472457eb295be3fb4911267%22%20style%3D%22width%3A%20100.0%25%3B%20height%3A%20100.0%25%3B%22%3E%3Cb%3E52.0%3C/b%3E%20%3Cb%3Eblack%3C/b%3E%20%3Cb%3ETRAFFIC%20VIOLATION%3C/b%3E%20%3Cb%3Ecitation%3C/b%3E%3C/div%3E%60%29%5B0%5D%3B%0A%20%20%20%20%20%20%20%20%20%20%20%20%20%20%20%20popup_e70e29ffe59e4b5b804a5398e5fdb67b.setContent%28html_44ba7d679472457eb295be3fb4911267%29%3B%0A%20%20%20%20%20%20%20%20%20%20%20%20%0A%0A%20%20%20%20%20%20%20%20%20%20%20%20marker_28077a44d33b49bbbc3d3371db39349f.bindPopup%28popup_e70e29ffe59e4b5b804a5398e5fdb67b%29%0A%20%20%20%20%20%20%20%20%20%20%20%20%3B%0A%0A%20%20%20%20%20%20%20%20%20%20%20%20%0A%20%20%20%20%20%20%20%20%0A%20%20%20%20%0A%20%20%20%20%20%20%20%20marker_28077a44d33b49bbbc3d3371db39349f.bindTooltip%28%0A%20%20%20%20%20%20%20%20%20%20%20%20%60%3Cdiv%3E%60%0A%20%20%20%20%20%20%20%20%20%20%20%20%2B%20%60I%27m%20a%20police%20stop%60%20%2B%20%60%3C/div%3E%60%2C%0A%20%20%20%20%20%20%20%20%20%20%20%20%7B%22sticky%22%3A%20true%7D%0A%20%20%20%20%20%20%20%20%29%3B%0A%20%20%20%20%20%20%20%20%0A%20%20%20%20%0A%20%20%20%20%20%20%20%20var%20marker_22b24f6b98934a0489152ca1cabf0edb%20%3D%20L.marker%28%0A%20%20%20%20%20%20%20%20%20%20%20%20%5B30.035969%2C%20-89.97519899999998%5D%2C%0A%20%20%20%20%20%20%20%20%20%20%20%20%7B%0A%20%20%20%20%20%20%20%20%20%20%20%20%20%20%20%20icon%3A%20new%20L.Icon.Default%28%29%2C%0A%20%20%20%20%20%20%20%20%20%20%20%20%20%20%20%20%7D%0A%20%20%20%20%20%20%20%20%20%20%20%20%29.addTo%28map_0024b2bb8ba849f585e260b7462c8804%29%3B%0A%20%20%20%20%20%20%20%20%0A%20%20%20%20%0A%20%20%20%20%20%20%20%20%20%20%20%20var%20popup_2bacfbc61cad40488f9d63560c807a71%20%3D%20L.popup%28%7BmaxWidth%3A%20%27100%25%27%0A%20%20%20%20%20%20%20%20%20%20%20%20%0A%20%20%20%20%20%20%20%20%20%20%20%20%7D%29%3B%0A%0A%20%20%20%20%20%20%20%20%20%20%20%20%0A%20%20%20%20%20%20%20%20%20%20%20%20%20%20%20%20var%20html_ea993684dc0148d6bb5c15999ddd94ab%20%3D%20%24%28%60%3Cdiv%20id%3D%22html_ea993684dc0148d6bb5c15999ddd94ab%22%20style%3D%22width%3A%20100.0%25%3B%20height%3A%20100.0%25%3B%22%3E%3Cb%3E27.0%3C/b%3E%20%3Cb%3Eblack%3C/b%3E%20%3Cb%3ETRAFFIC%20VIOLATION%3C/b%3E%20%3Cb%3Ecitation%3C/b%3E%3C/div%3E%60%29%5B0%5D%3B%0A%20%20%20%20%20%20%20%20%20%20%20%20%20%20%20%20popup_2bacfbc61cad40488f9d63560c807a71.setContent%28html_ea993684dc0148d6bb5c15999ddd94ab%29%3B%0A%20%20%20%20%20%20%20%20%20%20%20%20%0A%0A%20%20%20%20%20%20%20%20%20%20%20%20marker_22b24f6b98934a0489152ca1cabf0edb.bindPopup%28popup_2bacfbc61cad40488f9d63560c807a71%29%0A%20%20%20%20%20%20%20%20%20%20%20%20%3B%0A%0A%20%20%20%20%20%20%20%20%20%20%20%20%0A%20%20%20%20%20%20%20%20%0A%20%20%20%20%0A%20%20%20%20%20%20%20%20marker_22b24f6b98934a0489152ca1cabf0edb.bindTooltip%28%0A%20%20%20%20%20%20%20%20%20%20%20%20%60%3Cdiv%3E%60%0A%20%20%20%20%20%20%20%20%20%20%20%20%2B%20%60I%27m%20a%20police%20stop%60%20%2B%20%60%3C/div%3E%60%2C%0A%20%20%20%20%20%20%20%20%20%20%20%20%7B%22sticky%22%3A%20true%7D%0A%20%20%20%20%20%20%20%20%29%3B%0A%20%20%20%20%20%20%20%20%0A%20%20%20%20%0A%20%20%20%20%20%20%20%20var%20marker_716068c84f864292af57ff26f0d3ae32%20%3D%20L.marker%28%0A%20%20%20%20%20%20%20%20%20%20%20%20%5B29.9689316%2C%20-90.0501067%5D%2C%0A%20%20%20%20%20%20%20%20%20%20%20%20%7B%0A%20%20%20%20%20%20%20%20%20%20%20%20%20%20%20%20icon%3A%20new%20L.Icon.Default%28%29%2C%0A%20%20%20%20%20%20%20%20%20%20%20%20%20%20%20%20%7D%0A%20%20%20%20%20%20%20%20%20%20%20%20%29.addTo%28map_0024b2bb8ba849f585e260b7462c8804%29%3B%0A%20%20%20%20%20%20%20%20%0A%20%20%20%20%0A%20%20%20%20%20%20%20%20%20%20%20%20var%20popup_856eb733a1ed4f4d828d8299a3f112c8%20%3D%20L.popup%28%7BmaxWidth%3A%20%27100%25%27%0A%20%20%20%20%20%20%20%20%20%20%20%20%0A%20%20%20%20%20%20%20%20%20%20%20%20%7D%29%3B%0A%0A%20%20%20%20%20%20%20%20%20%20%20%20%0A%20%20%20%20%20%20%20%20%20%20%20%20%20%20%20%20var%20html_0c382a650950479ba6ae736d11019753%20%3D%20%24%28%60%3Cdiv%20id%3D%22html_0c382a650950479ba6ae736d11019753%22%20style%3D%22width%3A%20100.0%25%3B%20height%3A%20100.0%25%3B%22%3E%3Cb%3E82.0%3C/b%3E%20%3Cb%3Eblack%3C/b%3E%20%3Cb%3ETRAFFIC%20VIOLATION%3C/b%3E%20%3Cb%3Ecitation%3C/b%3E%3C/div%3E%60%29%5B0%5D%3B%0A%20%20%20%20%20%20%20%20%20%20%20%20%20%20%20%20popup_856eb733a1ed4f4d828d8299a3f112c8.setContent%28html_0c382a650950479ba6ae736d11019753%29%3B%0A%20%20%20%20%20%20%20%20%20%20%20%20%0A%0A%20%20%20%20%20%20%20%20%20%20%20%20marker_716068c84f864292af57ff26f0d3ae32.bindPopup%28popup_856eb733a1ed4f4d828d8299a3f112c8%29%0A%20%20%20%20%20%20%20%20%20%20%20%20%3B%0A%0A%20%20%20%20%20%20%20%20%20%20%20%20%0A%20%20%20%20%20%20%20%20%0A%20%20%20%20%0A%20%20%20%20%20%20%20%20marker_716068c84f864292af57ff26f0d3ae32.bindTooltip%28%0A%20%20%20%20%20%20%20%20%20%20%20%20%60%3Cdiv%3E%60%0A%20%20%20%20%20%20%20%20%20%20%20%20%2B%20%60I%27m%20a%20police%20stop%60%20%2B%20%60%3C/div%3E%60%2C%0A%20%20%20%20%20%20%20%20%20%20%20%20%7B%22sticky%22%3A%20true%7D%0A%20%20%20%20%20%20%20%20%29%3B%0A%20%20%20%20%20%20%20%20%0A%3C/script%3E onload=\"this.contentDocument.open();this.contentDocument.write(    decodeURIComponent(this.getAttribute('data-html')));this.contentDocument.close();\" allowfullscreen webkitallowfullscreen mozallowfullscreen></iframe></div></div>"
            ],
            "text/plain": [
              "<folium.folium.Map at 0x7fa902c43950>"
            ]
          },
          "metadata": {},
          "execution_count": 105
        }
      ]
    },
    {
      "cell_type": "code",
      "metadata": {
        "id": "QwG-nPzm0tPl"
      },
      "source": [
        ""
      ],
      "execution_count": null,
      "outputs": []
    }
  ]
}